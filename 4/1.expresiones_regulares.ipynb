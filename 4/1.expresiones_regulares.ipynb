{
 "cells": [
  {
   "cell_type": "code",
   "execution_count": 18,
   "metadata": {},
   "outputs": [
    {
     "name": "stdout",
     "output_type": "stream",
     "text": [
      "False\n",
      "True\n",
      "True\n",
      "2\n"
     ]
    }
   ],
   "source": [
    "string = \"Rivadavia 1234\"\n",
    "print(\"ñ\" in string)\n",
    "print(\"R\" in string)\n",
    "print(\"1234\" in string)\n",
    "\n",
    "print(string.index(\"v\")) #devuelve posicion del char\n"
   ]
  },
  {
   "cell_type": "markdown",
   "metadata": {},
   "source": [
    "#### Intro Expresiones Regulares"
   ]
  },
  {
   "cell_type": "code",
   "execution_count": 15,
   "metadata": {},
   "outputs": [],
   "source": [
    "import re"
   ]
  },
  {
   "cell_type": "code",
   "execution_count": 43,
   "metadata": {},
   "outputs": [
    {
     "name": "stdout",
     "output_type": "stream",
     "text": [
      "10\n",
      "14\n",
      "-----\n",
      "10\n",
      "14\n",
      "-----\n",
      "1234\n",
      "1234\n"
     ]
    }
   ],
   "source": [
    "resultado = re.search('1234', string)    #devuelve objeto re\n",
    "\n",
    "inicio, fin = resultado.span()  #span devuelve el inicio y fin del string pasado como argumento dentro del string general del texto\n",
    "\n",
    "print(inicio)\n",
    "print(fin)\n",
    "print(\"-----\")\n",
    "print(resultado.start())    #mismo resultado con metodos built in \n",
    "print(resultado.end())\n",
    "print(\"-----\")\n",
    "print(string[inicio:fin])\n",
    "print(resultado.group())   #mismo resultado con metodos built in \n"
   ]
  },
  {
   "cell_type": "code",
   "execution_count": 44,
   "metadata": {},
   "outputs": [
    {
     "data": {
      "text/plain": [
       "'Rivadavia 1234'"
      ]
     },
     "execution_count": 44,
     "metadata": {},
     "output_type": "execute_result"
    }
   ],
   "source": [
    "resultado.string    #devuelve el string completo a analizar"
   ]
  },
  {
   "cell_type": "code",
   "execution_count": 35,
   "metadata": {},
   "outputs": [
    {
     "data": {
      "text/plain": [
       "'1234'"
      ]
     },
     "execution_count": 35,
     "metadata": {},
     "output_type": "execute_result"
    }
   ],
   "source": [
    "resultado.string[inicio:fin]"
   ]
  },
  {
   "cell_type": "code",
   "execution_count": 45,
   "metadata": {},
   "outputs": [
    {
     "data": {
      "text/plain": [
       "'1234'"
      ]
     },
     "execution_count": 45,
     "metadata": {},
     "output_type": "execute_result"
    }
   ],
   "source": [
    "resultado.string[resultado.start():resultado.end()]"
   ]
  },
  {
   "cell_type": "code",
   "execution_count": 46,
   "metadata": {},
   "outputs": [
    {
     "name": "stdout",
     "output_type": "stream",
     "text": [
      "10\n",
      "14\n"
     ]
    }
   ],
   "source": [
    "print(resultado.start())\n",
    "print(resultado.end())"
   ]
  },
  {
   "cell_type": "code",
   "execution_count": 39,
   "metadata": {},
   "outputs": [
    {
     "data": {
      "text/plain": [
       "'1234'"
      ]
     },
     "execution_count": 39,
     "metadata": {},
     "output_type": "execute_result"
    }
   ],
   "source": [
    "resultado.group()   #devuelve lo que se quiere buscar en el string completo"
   ]
  },
  {
   "cell_type": "code",
   "execution_count": 53,
   "metadata": {},
   "outputs": [],
   "source": [
    "string_2 = \"123 calle falsa 123\""
   ]
  },
  {
   "cell_type": "code",
   "execution_count": 72,
   "metadata": {},
   "outputs": [
    {
     "name": "stdout",
     "output_type": "stream",
     "text": [
      "<re.Match object; span=(4, 9), match='calle'>\n",
      "None\n"
     ]
    }
   ],
   "source": [
    "print(re.search(\"calle\", string_2))\n",
    "print(re.match(\"calle\", string_2))  #la dif es que match solo busca desde el comienzo de la cadena(mas performante?)"
   ]
  },
  {
   "cell_type": "code",
   "execution_count": 55,
   "metadata": {},
   "outputs": [
    {
     "data": {
      "text/plain": [
       "['123', '123']"
      ]
     },
     "execution_count": 55,
     "metadata": {},
     "output_type": "execute_result"
    }
   ],
   "source": [
    "re.findall(\"123\", string_2)"
   ]
  },
  {
   "cell_type": "code",
   "execution_count": 58,
   "metadata": {},
   "outputs": [
    {
     "data": {
      "text/plain": [
       "['123', 'calle', 'falsa', '123']"
      ]
     },
     "execution_count": 58,
     "metadata": {},
     "output_type": "execute_result"
    }
   ],
   "source": [
    "re.split(' ',string_2)"
   ]
  },
  {
   "cell_type": "code",
   "execution_count": 61,
   "metadata": {},
   "outputs": [
    {
     "data": {
      "text/plain": [
       "'123_calle_falsa_123'"
      ]
     },
     "execution_count": 61,
     "metadata": {},
     "output_type": "execute_result"
    }
   ],
   "source": [
    "re.sub(\" \",\"_\" ,string_2)"
   ]
  },
  {
   "cell_type": "markdown",
   "metadata": {},
   "source": [
    "#### Usos reales"
   ]
  },
  {
   "cell_type": "code",
   "execution_count": 98,
   "metadata": {},
   "outputs": [
    {
     "name": "stdout",
     "output_type": "stream",
     "text": [
      "<re.Match object; span=(10, 11), match='1'>\n",
      "<re.Match object; span=(0, 1), match='R'>\n",
      "<re.Match object; span=(10, 11), match='1'>\n",
      "<re.Match object; span=(0, 1), match='R'>\n",
      "<re.Match object; span=(1, 2), match='i'>\n"
     ]
    }
   ],
   "source": [
    "print(re.search('[1357]', \"Rivadavia 1234\"))  #devuelve la primer coincidencia con algo que este dentro de [1357]\n",
    "print(re.search('[xydaR]', \"Rivadavia 1234\"))   #devuelve la primer coincidencia con algo que este dentro de [xydaR]\n",
    "print(re.search('[0-9]', \"Rivadavia 1234\")) #devuelve la primer coincidencia con [numeros del 0 al 9]\n",
    "print(re.search('[^0-9]', \"Rivadavia 1234\"))    #devuelve la primer coincidencia con el complemento de [numeros del 0 al 9]\n",
    "print(re.search('[a-z]', \"Rivadavia 1234\"))    #devuelve la primer coincidencia con el complemento de [letras minusculas del abcdario]"
   ]
  },
  {
   "cell_type": "code",
   "execution_count": 104,
   "metadata": {},
   "outputs": [
    {
     "name": "stdout",
     "output_type": "stream",
     "text": [
      "<re.Match object; span=(10, 14), match='1234'>\n",
      "None\n",
      "<re.Match object; span=(10, 15), match='12346'>\n",
      "<re.Match object; span=(10, 14), match='1234'>\n"
     ]
    }
   ],
   "source": [
    "print(re.search('[0-9][0-9][0-9][0-9]', \"Rivadavia 1234\"))    #devuelve la primer coincidencia con 4 digitos de [numeros del 0 al 9]\n",
    "print(re.search('[0-9][0-9][0-9][0-9][0-9]', \"Rivadavia 1234\"))    #no hay coincidencia\n",
    "print(re.search('[0-9][0-9][0-9][0-9][0-9]', \"Rivadavia 12346\"))    #devuelve la primer coincidencia con 4 digitos de [numeros del 0 al 9]\n",
    "print(re.search('[0-9]+', \"Rivadavia 1234\"))    #devuelve la primer coincidencia de cualquier expresion que tenga por lo menos 1 digito numerico, hasta n"
   ]
  },
  {
   "cell_type": "code",
   "execution_count": 137,
   "metadata": {},
   "outputs": [
    {
     "name": "stdout",
     "output_type": "stream",
     "text": [
      "<re.Match object; span=(0, 14), match='Rivadavia 1234'>\n",
      "<re.Match object; span=(0, 7), match='11aaa11'>\n",
      "<re.Match object; span=(0, 7), match='11aaa11'>\n"
     ]
    }
   ],
   "source": [
    "print(re.search('.+', \"Rivadavia 1234\"))    #cualquier cantidad de letras y cualquier cantidad de nums, hasta n\n",
    "print(re.search('.+a.+', \"11aaa11\"))    #n letras, n nums, n 'a', n letras, n nums. basicamente cualquier cosa que tenga una 'a' en el medio\n",
    "print(re.search('.+a.+', \"asno\"))    #n letras, n nums, n 'a', n letras, n nums. basicamente cualquier cosa que tenga una 'a' en el medio"
   ]
  },
  {
   "cell_type": "code",
   "execution_count": 140,
   "metadata": {},
   "outputs": [
    {
     "name": "stdout",
     "output_type": "stream",
     "text": [
      "None\n",
      "<re.Match object; span=(0, 1), match='b'>\n",
      "<re.Match object; span=(1, 2), match='s'>\n",
      "None\n",
      "<re.Match object; span=(6, 7), match='o'>\n"
     ]
    }
   ],
   "source": [
    "print(re.search('^a','Asado')) #el ^ significa que comience con eso\n",
    "print(re.search(r'\\Ab','basado')) #el \\A significa que comience con eso, se usa raw string para evitar problemas\n",
    "print(re.search('[^a-o]','asado')) #el [^] significa complemento\n",
    "print(re.search('o$','AsadO')) #el $ significa que termine con eso\n",
    "print(re.search(r'o\\Z','amasado')) #el \\Z significa que termine con eso, se usa raw string para evitar problemas"
   ]
  },
  {
   "cell_type": "code",
   "execution_count": 176,
   "metadata": {},
   "outputs": [
    {
     "name": "stdout",
     "output_type": "stream",
     "text": [
      "<re.Match object; span=(10, 15), match='12345'>\n",
      "<re.Match object; span=(0, 5), match='23156'>\n",
      "<re.Match object; span=(0, 3), match='231'>\n",
      "<re.Match object; span=(7, 15), match='ivadavia'>\n"
     ]
    }
   ],
   "source": [
    "print(re.search('[0-5]+', 'Rivadavia 123456789'))   #busca n digitos en cualquier parte del string\n",
    "print(re.search('[0-9]*', '23156 Rivadavia 123456789')) #busca n digitos al comienzo del string\n",
    "print(re.search('[0-5]{3}', '23156 Rivadavia 123456789')) #busca la primer aparicion de 3 digitos seguidos\n",
    "print(re.search('[a-z]{8}', '23156 Rivadavia 123456789')) #busca la primer aparicion de 8 letras minúscula seguidas"
   ]
  },
  {
   "cell_type": "code",
   "execution_count": 204,
   "metadata": {},
   "outputs": [
    {
     "name": "stdout",
     "output_type": "stream",
     "text": [
      "<re.Match object; span=(7, 10), match='123'>\n",
      "<re.Match object; span=(0, 7), match='Asdasd '>\n",
      "<re.Match object; span=(0, 6), match='Asdasd'>\n",
      "<re.Match object; span=(7, 8), match=' '>\n",
      "<re.Match object; span=(6, 7), match=' '>\n",
      "<re.Match object; span=(0, 6), match='Asdasd'>\n"
     ]
    },
    {
     "data": {
      "text/plain": [
       "'Rivadavia ****, CABA'"
      ]
     },
     "execution_count": 204,
     "metadata": {},
     "output_type": "execute_result"
    }
   ],
   "source": [
    "print(re.search('\\d+', 'Asdasd 123')) #busca la primer aparicion de n números seguidos\n",
    "print(re.search('\\D+', 'Asdasd 123')) #busca la primer aparicion de n NO números seguidos\n",
    "print(re.search('\\w+', 'Asdasd 123')) #busca la primer aparicion de n alfanuméricos seguidos\n",
    "print(re.search('\\W+', 'Asdasd_ 123')) #busca la primer aparicion de n NO alfanuméricos seguidos (se rompe por espacios o signos raros)\n",
    "print(re.search('\\s+', 'Asdasd 123')) #busca la primer aparicion de espacios\n",
    "print(re.search('\\S+', 'Asdasd 123')) #busca la primer aparicion de NO espacios\n",
    "\n",
    "re.sub('\\d+', \"****\", \"Rivadavia 12334, CABA\")"
   ]
  }
 ],
 "metadata": {
  "kernelspec": {
   "display_name": "base",
   "language": "python",
   "name": "python3"
  },
  "language_info": {
   "codemirror_mode": {
    "name": "ipython",
    "version": 3
   },
   "file_extension": ".py",
   "mimetype": "text/x-python",
   "name": "python",
   "nbconvert_exporter": "python",
   "pygments_lexer": "ipython3",
   "version": "3.10.9"
  }
 },
 "nbformat": 4,
 "nbformat_minor": 2
}
