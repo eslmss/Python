{
 "cells": [
  {
   "cell_type": "code",
   "execution_count": 3,
   "metadata": {},
   "outputs": [],
   "source": [
    "import re"
   ]
  },
  {
   "cell_type": "markdown",
   "metadata": {},
   "source": [
    "##### 1) Extraer las direcciones de correo electrónico del siguiente texto:\n",
    "\n",
    "\"Por consultas relacionadas con nuestro servicio comuníquese con atencion_cliente@noresponden.com. Para suscribirse, escriba a ventas@acasiresponden.com\""
   ]
  },
  {
   "cell_type": "code",
   "execution_count": 4,
   "metadata": {},
   "outputs": [],
   "source": [
    "texto_1 = \"Por consultas relacionadas con nuestro servicio comuníquese con atencion_cliente@noresponden.com. Para suscribirse, escriba a ventas@acasiresponden.com\""
   ]
  },
  {
   "cell_type": "code",
   "execution_count": 5,
   "metadata": {},
   "outputs": [
    {
     "data": {
      "text/plain": [
       "['atencion_cliente@noresponden.com', 'ventas@acasiresponden.com']"
      ]
     },
     "execution_count": 5,
     "metadata": {},
     "output_type": "execute_result"
    }
   ],
   "source": [
    "re.findall(r\"\\S+@\\S+\\.com\", texto_1)\n",
    "#   texto_random.XD@tambienRandom.com\n",
    "#   \\S+     una o más letras, núms o chars (no espacios)\n",
    "#   '@'     literal\n",
    "#   \\S+     una o más letras, núms o chars (no espacios)\n",
    "#   '.com'  literal"
   ]
  },
  {
   "cell_type": "markdown",
   "metadata": {},
   "source": [
    "##### 2) Extraer el nombre del usuario de la dirección de correo electrónico:\n",
    "\n",
    "usuario.largo@nttdata.com"
   ]
  },
  {
   "cell_type": "code",
   "execution_count": 6,
   "metadata": {},
   "outputs": [],
   "source": [
    "mail_2 = \"usuario.largo@nttdata.com\""
   ]
  },
  {
   "cell_type": "code",
   "execution_count": 17,
   "metadata": {},
   "outputs": [
    {
     "data": {
      "text/plain": [
       "'usuario.largo'"
      ]
     },
     "execution_count": 17,
     "metadata": {},
     "output_type": "execute_result"
    }
   ],
   "source": [
    "re.search(r\"^[^@]+\", mail_2).group()    #forma 1\n",
    "#   usuario\n",
    "#   ^       que comience con:\n",
    "#       [^.]+   cualquier secuencia de caracteres que sea complemento de un arroba '@'. n veces"
   ]
  },
  {
   "cell_type": "code",
   "execution_count": 21,
   "metadata": {},
   "outputs": [
    {
     "data": {
      "text/plain": [
       "'usuario.largo'"
      ]
     },
     "execution_count": 21,
     "metadata": {},
     "output_type": "execute_result"
    }
   ],
   "source": [
    "re.search('[\\w.]+(?=@)', mail_2).group()    #forma 2\n",
    "#   [\\w.]   coincide con cualquier secuencia de caracteres que consista en letras, números o '.'1.expresiones_regulares.ipynb\n",
    "#       +   que esa secuencia aparezca n veces\n",
    "#       (?=@)   despues de la secuencia anterior, se se espera un '@' que no se incluirá en el resultado. La busqueda se realizara hasta que se encuentre un @"
   ]
  },
  {
   "cell_type": "markdown",
   "metadata": {},
   "source": [
    "##### 3) Identificar las palabras de cinco letras en la siguiente lista:\n",
    "\n",
    "'cabeza', 'pesca', 'ahora', 'no', 'cláusula', 'veneno', 'cinco'"
   ]
  },
  {
   "cell_type": "code",
   "execution_count": 8,
   "metadata": {},
   "outputs": [],
   "source": [
    "lista_palabras_3 = ['cabeza', 'pesca', 'ahora', 'no', 'cláusula', 'veneno', 'cinco']"
   ]
  },
  {
   "cell_type": "code",
   "execution_count": 9,
   "metadata": {},
   "outputs": [
    {
     "data": {
      "text/plain": [
       "['pesca', 'ahora', 'cinco']"
      ]
     },
     "execution_count": 9,
     "metadata": {},
     "output_type": "execute_result"
    }
   ],
   "source": [
    "palabras_de_cinco_letras = [palabra for palabra in lista_palabras_3 if re.match(r'\\b\\w{5}\\b', palabra)]\n",
    "palabras_de_cinco_letras\n",
    "#       pesca, ahora, cinco\n",
    "# \\b    coincide con un límite de palabra (para asegurarse de que estás buscando palabras completas)\n",
    "# \\w{5}    coincide con 5 carácter de palabra (letras, números o guiones bajos)\n",
    "# \\b    nuevamente coincide con un límite de palabra"
   ]
  },
  {
   "cell_type": "markdown",
   "metadata": {},
   "source": [
    "##### 4) Extraer las etiquetas HTML del siguiente código:\n",
    "\n",
    "```hmtl\n",
    "<!DOCTYPE html>\n",
    "<html>\n",
    "<head>\n",
    "    <meta charset=\"utf-8\" />\n",
    "    <title>My test page</title>\n",
    "  </head>\n",
    "<body>\n",
    "\n",
    "<h1>My First Heading</h1>\n",
    "<p>Lorem ipsum dolor sit amet, consectetur adipiscing elit. Nam eu hendrerit justo. Phasellus dui tellus, aliquam sit amet maximus et, ultricies non libero. Cras nec consequat arcu. Etiam ligula ligula, facilisis ut nisi ut, efficitur luctus neque. Donec eget nisi ut justo dictum posuere. Vivamus sagittis nec tellus non convallis. Integer sed dui placerat, eleifend dui et, fermentum lorem. Ut vitae diam eleifend, interdum lorem sit amet, bibendum eros. Fusce justo dolor, sagittis non auctor id, fringilla vitae urna. In a elit odio. Ut congue ante a nibh eleifend congue. Fusce id varius urna. Curabitur vel eleifend augue.</p>\n",
    "\n",
    "<a href = \"...........\"> Link Text </a>\n",
    "\n",
    "</body>\n",
    "</html>\n",
    "```"
   ]
  },
  {
   "cell_type": "code",
   "execution_count": 10,
   "metadata": {},
   "outputs": [],
   "source": [
    "codigo_4 = \"\"\"html\n",
    "<!DOCTYPE html>\n",
    "<html>\n",
    "<head>\n",
    "    <meta charset=\"utf-8\" />\n",
    "    <title>My test page</title>\n",
    "  </head>\n",
    "<body>\n",
    "\n",
    "<h1>My First Heading</h1>\n",
    "<p>Lorem ipsum dolor sit amet, consectetur adipiscing elit. Nam eu hendrerit justo. Phasellus dui tellus, aliquam sit amet maximus et, ultricies non libero. Cras nec consequat arcu. Etiam ligula ligula, facilisis ut nisi ut, efficitur luctus neque. Donec eget nisi ut justo dictum posuere. Vivamus sagittis nec tellus non convallis. Integer sed dui placerat, eleifend dui et, fermentum lorem. Ut vitae diam eleifend, interdum lorem sit amet, bibendum eros. Fusce justo dolor, sagittis non auctor id, fringilla vitae urna. In a elit odio. Ut congue ante a nibh eleifend congue. Fusce id varius urna. Curabitur vel eleifend augue.</p>\n",
    "\n",
    "<a href = \"...........\"> Link Text </a>\n",
    "\n",
    "</body>\n",
    "</html>\n",
    "\"\"\""
   ]
  },
  {
   "cell_type": "code",
   "execution_count": 11,
   "metadata": {},
   "outputs": [
    {
     "data": {
      "text/plain": [
       "['<!DOCTYPE html>',\n",
       " '<html>',\n",
       " '<head>',\n",
       " '<meta charset=\"utf-8\" />',\n",
       " '<title>',\n",
       " '</title>',\n",
       " '</head>',\n",
       " '<body>',\n",
       " '<h1>',\n",
       " '</h1>',\n",
       " '<p>',\n",
       " '</p>',\n",
       " '<a href = \"...........\">',\n",
       " '</a>',\n",
       " '</body>',\n",
       " '</html>']"
      ]
     },
     "execution_count": 11,
     "metadata": {},
     "output_type": "execute_result"
    }
   ],
   "source": [
    "re.findall(r'<[^>]+>', codigo_4)\n",
    "\n",
    "# <     coincide con el carácter '<' literal\n",
    "# [^>]  corchetes [] indican un conjunto de caracteres. Engloban cualquier carácter que no sea > (en HTML, las etiquetas comienzan con < y terminan con >)\n",
    "# + indica que el conjunto de caracteres [^>] debe aparecer n veces. Esto significa que estamos buscando una secuencia de caracteres dentro de las etiquetas HTML.\n",
    "# >     coincide con el carácter '<' literal"
   ]
  },
  {
   "cell_type": "markdown",
   "metadata": {},
   "source": [
    "##### 5) Reemplazar las instancias del número 3 con la palaba 'tres' en el siguiente texto:\n",
    "\n",
    "\"La municipalidad de 3 de febrero inaugurará 3 centros de atención médica luego de 3 años de demora en las obras\""
   ]
  },
  {
   "cell_type": "code",
   "execution_count": 12,
   "metadata": {},
   "outputs": [],
   "source": [
    "texto_5 = \"La municipalidad de 3 de febrero inaugurará 3 centros de atención médica luego de 3 años de demora en las obras\""
   ]
  },
  {
   "cell_type": "code",
   "execution_count": 13,
   "metadata": {},
   "outputs": [
    {
     "data": {
      "text/plain": [
       "'La municipalidad de tres de febrero inaugurará tres centros de atención médica luego de tres años de demora en las obras'"
      ]
     },
     "execution_count": 13,
     "metadata": {},
     "output_type": "execute_result"
    }
   ],
   "source": [
    "re.sub(r'\\b3\\b', \"tres\", texto_5)\n",
    "# \\b    coincide con un límite de palabra (para asegurarse de que estás buscando palabras completas)\n",
    "# 3     numero '3' literal\n",
    "# \\b    nuevamente coincide con un límite de palabra"
   ]
  },
  {
   "cell_type": "markdown",
   "metadata": {},
   "source": [
    "##### 6) Remplazar las vocales de la oración anterior por un guión bajo '_':"
   ]
  },
  {
   "cell_type": "code",
   "execution_count": 14,
   "metadata": {},
   "outputs": [
    {
     "data": {
      "text/plain": [
       "'L_ m_n_c_p_l_d_d d_ 3 d_ f_br_r_ _n__g_r_rá 3 c_ntr_s d_ _t_nc_ón méd_c_ l__g_ d_ 3 _ñ_s d_ d_m_r_ _n l_s _br_s'"
      ]
     },
     "execution_count": 14,
     "metadata": {},
     "output_type": "execute_result"
    }
   ],
   "source": [
    "re.sub(r'[aeiouAEIOU]', '_', texto_5)"
   ]
  }
 ],
 "metadata": {
  "kernelspec": {
   "display_name": "base",
   "language": "python",
   "name": "python3"
  },
  "language_info": {
   "codemirror_mode": {
    "name": "ipython",
    "version": 3
   },
   "file_extension": ".py",
   "mimetype": "text/x-python",
   "name": "python",
   "nbconvert_exporter": "python",
   "pygments_lexer": "ipython3",
   "version": "3.10.9"
  }
 },
 "nbformat": 4,
 "nbformat_minor": 2
}
