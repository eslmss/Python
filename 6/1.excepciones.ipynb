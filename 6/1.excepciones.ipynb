{
 "cells": [
  {
   "cell_type": "markdown",
   "metadata": {},
   "source": [
    "### Tipos de Errores"
   ]
  },
  {
   "cell_type": "markdown",
   "metadata": {},
   "source": [
    "#### - Error de Sintaxis\n",
    "##### Cómun, no hacen falta ejemplos\n"
   ]
  },
  {
   "cell_type": "markdown",
   "metadata": {},
   "source": [
    "#### - Error de Semántica (lógica)"
   ]
  },
  {
   "cell_type": "code",
   "execution_count": 5,
   "metadata": {},
   "outputs": [
    {
     "ename": "AssertionError",
     "evalue": "",
     "output_type": "error",
     "traceback": [
      "\u001b[1;31m---------------------------------------------------------------------------\u001b[0m",
      "\u001b[1;31mAssertionError\u001b[0m                            Traceback (most recent call last)",
      "\u001b[1;32md:\\NTT\\Python Avanzado\\1.excepciones.ipynb Cell 3\u001b[0m line \u001b[0;36m5\n\u001b[0;32m      <a href='vscode-notebook-cell:/d%3A/NTT/Python%20Avanzado/1.excepciones.ipynb#W4sZmlsZQ%3D%3D?line=1'>2</a>\u001b[0m     promedio \u001b[39m=\u001b[39m (a\u001b[39m+\u001b[39mb)\u001b[39m*\u001b[39m\u001b[39m2\u001b[39m\n\u001b[0;32m      <a href='vscode-notebook-cell:/d%3A/NTT/Python%20Avanzado/1.excepciones.ipynb#W4sZmlsZQ%3D%3D?line=2'>3</a>\u001b[0m     \u001b[39mreturn\u001b[39;00m promedio\n\u001b[1;32m----> <a href='vscode-notebook-cell:/d%3A/NTT/Python%20Avanzado/1.excepciones.ipynb#W4sZmlsZQ%3D%3D?line=4'>5</a>\u001b[0m \u001b[39massert\u001b[39;00m promedio(\u001b[39m2\u001b[39m, \u001b[39m5\u001b[39m) \u001b[39m==\u001b[39m \u001b[39m3.5\u001b[39m\n",
      "\u001b[1;31mAssertionError\u001b[0m: "
     ]
    }
   ],
   "source": [
    "def promedio(a:int, b:int)->float:\n",
    "    promedio = (a+b)*2\n",
    "    return promedio\n",
    "\n",
    "assert promedio(2, 5) == 3.5    #TESTING: con assert se pone el resultado esperado, y arroja error en caso de no llegar al mismo"
   ]
  },
  {
   "cell_type": "markdown",
   "metadata": {},
   "source": [
    "#### - Durante la Ejecución"
   ]
  },
  {
   "cell_type": "code",
   "execution_count": 6,
   "metadata": {},
   "outputs": [],
   "source": [
    "def dividir_pizzas(pizzas: int, comensales: int)->float:\n",
    "    porciones = pizzas/comensales\n",
    "    return porciones"
   ]
  },
  {
   "cell_type": "code",
   "execution_count": 8,
   "metadata": {},
   "outputs": [],
   "source": [
    "assert dividir_pizzas(pizzas=5, comensales=10) == 0.5"
   ]
  },
  {
   "cell_type": "code",
   "execution_count": 10,
   "metadata": {},
   "outputs": [
    {
     "data": {
      "text/plain": [
       "0.5"
      ]
     },
     "execution_count": 10,
     "metadata": {},
     "output_type": "execute_result"
    }
   ],
   "source": [
    "dividir_pizzas(5.0, 10.0)   # con floats no rompe"
   ]
  },
  {
   "cell_type": "code",
   "execution_count": 14,
   "metadata": {},
   "outputs": [
    {
     "ename": "TypeError",
     "evalue": "unsupported operand type(s) for /: 'str' and 'str'",
     "output_type": "error",
     "traceback": [
      "\u001b[1;31m---------------------------------------------------------------------------\u001b[0m",
      "\u001b[1;31mTypeError\u001b[0m                                 Traceback (most recent call last)",
      "\u001b[1;32md:\\NTT\\Python Avanzado\\1.excepciones.ipynb Cell 8\u001b[0m line \u001b[0;36m1\n\u001b[1;32m----> <a href='vscode-notebook-cell:/d%3A/NTT/Python%20Avanzado/1.excepciones.ipynb#X12sZmlsZQ%3D%3D?line=0'>1</a>\u001b[0m dividir_pizzas(\u001b[39m\"\u001b[39;49m\u001b[39m5.0\u001b[39;49m\u001b[39m\"\u001b[39;49m, \u001b[39m\"\u001b[39;49m\u001b[39m10.0\u001b[39;49m\u001b[39m\"\u001b[39;49m)\n",
      "\u001b[1;32md:\\NTT\\Python Avanzado\\1.excepciones.ipynb Cell 8\u001b[0m line \u001b[0;36m2\n\u001b[0;32m      <a href='vscode-notebook-cell:/d%3A/NTT/Python%20Avanzado/1.excepciones.ipynb#X12sZmlsZQ%3D%3D?line=0'>1</a>\u001b[0m \u001b[39mdef\u001b[39;00m \u001b[39mdividir_pizzas\u001b[39m(pizzas: \u001b[39mint\u001b[39m, comensales: \u001b[39mint\u001b[39m):\n\u001b[1;32m----> <a href='vscode-notebook-cell:/d%3A/NTT/Python%20Avanzado/1.excepciones.ipynb#X12sZmlsZQ%3D%3D?line=1'>2</a>\u001b[0m     porciones \u001b[39m=\u001b[39m pizzas\u001b[39m/\u001b[39;49mcomensales\n\u001b[0;32m      <a href='vscode-notebook-cell:/d%3A/NTT/Python%20Avanzado/1.excepciones.ipynb#X12sZmlsZQ%3D%3D?line=2'>3</a>\u001b[0m     \u001b[39mreturn\u001b[39;00m porciones\n",
      "\u001b[1;31mTypeError\u001b[0m: unsupported operand type(s) for /: 'str' and 'str'"
     ]
    }
   ],
   "source": [
    "dividir_pizzas(\"5.0\", \"10.0\")   # con strings rompe"
   ]
  },
  {
   "cell_type": "code",
   "execution_count": 18,
   "metadata": {},
   "outputs": [
    {
     "ename": "ZeroDivisionError",
     "evalue": "division by zero",
     "output_type": "error",
     "traceback": [
      "\u001b[1;31m---------------------------------------------------------------------------\u001b[0m",
      "\u001b[1;31mZeroDivisionError\u001b[0m                         Traceback (most recent call last)",
      "\u001b[1;32md:\\NTT\\Python Avanzado\\1.excepciones.ipynb Cell 9\u001b[0m line \u001b[0;36m1\n\u001b[1;32m----> <a href='vscode-notebook-cell:/d%3A/NTT/Python%20Avanzado/1.excepciones.ipynb#X13sZmlsZQ%3D%3D?line=0'>1</a>\u001b[0m dividir_pizzas(\u001b[39m5\u001b[39;49m, \u001b[39m0\u001b[39;49m)\n",
      "\u001b[1;32md:\\NTT\\Python Avanzado\\1.excepciones.ipynb Cell 9\u001b[0m line \u001b[0;36m2\n\u001b[0;32m      <a href='vscode-notebook-cell:/d%3A/NTT/Python%20Avanzado/1.excepciones.ipynb#X13sZmlsZQ%3D%3D?line=0'>1</a>\u001b[0m \u001b[39mdef\u001b[39;00m \u001b[39mdividir_pizzas\u001b[39m(pizzas: \u001b[39mint\u001b[39m, comensales: \u001b[39mint\u001b[39m):\n\u001b[1;32m----> <a href='vscode-notebook-cell:/d%3A/NTT/Python%20Avanzado/1.excepciones.ipynb#X13sZmlsZQ%3D%3D?line=1'>2</a>\u001b[0m     porciones \u001b[39m=\u001b[39m pizzas\u001b[39m/\u001b[39;49mcomensales\n\u001b[0;32m      <a href='vscode-notebook-cell:/d%3A/NTT/Python%20Avanzado/1.excepciones.ipynb#X13sZmlsZQ%3D%3D?line=2'>3</a>\u001b[0m     \u001b[39mreturn\u001b[39;00m porciones\n",
      "\u001b[1;31mZeroDivisionError\u001b[0m: division by zero"
     ]
    }
   ],
   "source": [
    "dividir_pizzas(5, 0)   # division por 0 rompe"
   ]
  },
  {
   "cell_type": "markdown",
   "metadata": {},
   "source": [
    "### try / except"
   ]
  },
  {
   "cell_type": "code",
   "execution_count": 6,
   "metadata": {},
   "outputs": [],
   "source": [
    "def dividir_pizzas(pizzas: int, comensales: int)->float:\n",
    "    try:\n",
    "        porciones = pizzas/comensales\n",
    "        return porciones\n",
    "    except:\n",
    "        print(\"Error al recibir el pedido\") #mala práctica, no da mucho indicio exacto de cuál ni dónde está el error"
   ]
  },
  {
   "cell_type": "code",
   "execution_count": 7,
   "metadata": {},
   "outputs": [
    {
     "name": "stdout",
     "output_type": "stream",
     "text": [
      "Error al recibir el pedido\n"
     ]
    }
   ],
   "source": [
    "dividir_pizzas(\"5.0\", \"10.0\")"
   ]
  },
  {
   "cell_type": "code",
   "execution_count": 8,
   "metadata": {},
   "outputs": [
    {
     "name": "stdout",
     "output_type": "stream",
     "text": [
      "Error al recibir el pedido\n"
     ]
    }
   ],
   "source": [
    "dividir_pizzas(5,0)"
   ]
  },
  {
   "cell_type": "code",
   "execution_count": 14,
   "metadata": {},
   "outputs": [
    {
     "ename": "NameError",
     "evalue": "name 'porciones' is not defined",
     "output_type": "error",
     "traceback": [
      "\u001b[1;31m---------------------------------------------------------------------------\u001b[0m",
      "\u001b[1;31mNameError\u001b[0m                                 Traceback (most recent call last)",
      "\u001b[1;32md:\\NTT\\Python Avanzado\\6\\1.excepciones.ipynb Cell 15\u001b[0m line \u001b[0;36m6\n\u001b[0;32m      <a href='vscode-notebook-cell:/d%3A/NTT/Python%20Avanzado/6/1.excepciones.ipynb#X22sZmlsZQ%3D%3D?line=2'>3</a>\u001b[0m \u001b[39mexcept\u001b[39;00m:\n\u001b[0;32m      <a href='vscode-notebook-cell:/d%3A/NTT/Python%20Avanzado/6/1.excepciones.ipynb#X22sZmlsZQ%3D%3D?line=3'>4</a>\u001b[0m     \u001b[39mpass\u001b[39;00m\n\u001b[1;32m----> <a href='vscode-notebook-cell:/d%3A/NTT/Python%20Avanzado/6/1.excepciones.ipynb#X22sZmlsZQ%3D%3D?line=5'>6</a>\u001b[0m \u001b[39mprint\u001b[39m(porciones)\n",
      "\u001b[1;31mNameError\u001b[0m: name 'porciones' is not defined"
     ]
    }
   ],
   "source": [
    "try:\n",
    "    porciones = dividir_pizzas(5)\n",
    "except:\n",
    "    pass\n",
    "\n",
    "print(porciones)"
   ]
  },
  {
   "cell_type": "markdown",
   "metadata": {},
   "source": [
    "### else / finally"
   ]
  },
  {
   "cell_type": "code",
   "execution_count": 36,
   "metadata": {},
   "outputs": [],
   "source": [
    "def dividir_pizzas(pizzas: int, comensales: int)->float:\n",
    "    try:        #se ejecuta siempre al principio\n",
    "        porciones = pizzas/comensales\n",
    "    except:     #se ejecuta si se genera una excepcion\n",
    "        print(\"Error al recibir el pedido\")\n",
    "    else:       #se ejecuta si NO se genera una excepcion\n",
    "        print(f\"El pedido es de {pizzas} pizzas, cada comensal puede comer {porciones} /pizza\")\n",
    "    finally:    #se ejecuta siempre, al final (creo que no es tan asi). Se usa para cerrar la conexión a bd, cerrar archivos, logueos, etc\n",
    "        print(\"Pedido finalizado\")"
   ]
  },
  {
   "cell_type": "code",
   "execution_count": 37,
   "metadata": {},
   "outputs": [
    {
     "name": "stdout",
     "output_type": "stream",
     "text": [
      "Error al recibir el pedido\n",
      "Pedido finalizado\n"
     ]
    }
   ],
   "source": [
    "dividir_pizzas(10, 0)"
   ]
  },
  {
   "cell_type": "code",
   "execution_count": 42,
   "metadata": {},
   "outputs": [],
   "source": [
    "def dividir_pizzas(pizzas: int, comensales: int)->float:\n",
    "    try:\n",
    "        porciones = pizzas/comensales\n",
    "    except Exception as e:  #mala practica\n",
    "        print(f\"Error al recibir el pedido: {e}\")\n",
    "    else:\n",
    "        print(f\"El pedido es de {pizzas} pizzas, cada comensal puede comer {porciones} /pizza\")\n",
    "    finally:\n",
    "        print(\"Pedido finalizado\")"
   ]
  },
  {
   "cell_type": "code",
   "execution_count": 41,
   "metadata": {},
   "outputs": [
    {
     "name": "stdout",
     "output_type": "stream",
     "text": [
      "Error al recibir el pedido: Las pizzas y los comensales deben ser números\n",
      "Pedido finalizado\n"
     ]
    }
   ],
   "source": [
    "dividir_pizzas(\"10\",0)"
   ]
  },
  {
   "cell_type": "markdown",
   "metadata": {},
   "source": [
    "### Excepciones Múltiples (Buena Práctica)"
   ]
  },
  {
   "cell_type": "code",
   "execution_count": 60,
   "metadata": {},
   "outputs": [],
   "source": [
    "def dividir_pizzas(pizzas: int, comensales: int)->float:    #versión buenas prácticas\n",
    "    try:\n",
    "        print(\"Inicia el pedido\")\n",
    "        porciones = pizzas/comensales\n",
    "        print(f\"El pedido es de {pizzas} pizzas, cada comensal puede comer {porciones} /pizza\")\n",
    "    except TypeError as e:\n",
    "        print(f\"Error al recibir el pedido: Las pizzas y los comensales deben ser números\")\n",
    "    except ZeroDivisionError as e:\n",
    "        print(f\"Error al recibir el pedido: Parece que nadie quiere pizza :(\")\n",
    "    except Exception as e:\n",
    "        print(f\"Error desconocido al recibir el pedido\")\n",
    "    else:   #el else se usa muy poco\n",
    "        print(\"El pedido se recibió correctamente\")\n",
    "    finally:\n",
    "        print(\"Pedido finalizado\")"
   ]
  },
  {
   "cell_type": "code",
   "execution_count": 61,
   "metadata": {},
   "outputs": [
    {
     "name": "stdout",
     "output_type": "stream",
     "text": [
      "Inicia el pedido\n",
      "El pedido es de 10 pizzas, cada comensal puede comer 0.5 /pizza\n",
      "El pedido se recibió correctamente\n",
      "Pedido finalizado\n"
     ]
    }
   ],
   "source": [
    "dividir_pizzas(10, 20)"
   ]
  },
  {
   "cell_type": "code",
   "execution_count": 54,
   "metadata": {},
   "outputs": [
    {
     "name": "stdout",
     "output_type": "stream",
     "text": [
      "Error al recibir el pedido: Las pizzas y los comensales deben ser números\n",
      "Pedido finalizado\n"
     ]
    }
   ],
   "source": [
    "dividir_pizzas(\"10\",5)"
   ]
  },
  {
   "cell_type": "code",
   "execution_count": 58,
   "metadata": {},
   "outputs": [
    {
     "name": "stdout",
     "output_type": "stream",
     "text": [
      "Error desconocido al recibir el pedido\n",
      "Pedido finalizado\n"
     ]
    }
   ],
   "source": [
    "dividir_pizzas(10,0)"
   ]
  },
  {
   "cell_type": "markdown",
   "metadata": {},
   "source": [
    "### Excepciones Personalizadas"
   ]
  },
  {
   "cell_type": "code",
   "execution_count": 81,
   "metadata": {},
   "outputs": [],
   "source": [
    "class CantidadInvalidaError(Exception):\n",
    "    def __init__(self):\n",
    "        self.message = \"Error al registrar la cantidad de pizzas y/o comensaales\"\n",
    "        super().__init__(self.message)\n",
    "    \n",
    "class NoRegistraComensalesError(Exception):\n",
    "       def __init__(self):\n",
    "        self.message = \"Parece que nadie quiere pizza :(\"\n",
    "        super().__init__(self.message)"
   ]
  },
  {
   "cell_type": "code",
   "execution_count": 83,
   "metadata": {},
   "outputs": [],
   "source": [
    "def dividir_pizzas(pizzas: int, comensales: int)->float:    #versión buenas prácticas\n",
    "    '''\n",
    "    Función para dividir en porciones las pizzas\n",
    "    '''\n",
    "    try:\n",
    "        print(\"Inicia el pedido\")\n",
    "        if not (type(pizzas) | type(comensales)) in (int, float):\n",
    "           raise CantidadInvalidaError \n",
    "        if comensales == 0:\n",
    "            raise NoRegistraComensalesError\n",
    "        porciones = pizzas/comensales\n",
    "        print(f\"El pedido es de {pizzas} pizzas, cada comensal puede comer {porciones} /pizza\")\n",
    "        \n",
    "    except CantidadInvalidaError as e:\n",
    "        print(f\"Error al recibir el pedido: {e.message}\")\n",
    "    except NoRegistraComensalesError as e:\n",
    "        print(f\"Error al recibir el pedido: {e.message}\")\n",
    "    except Exception as e:\n",
    "        print(f\"Error desconocido al recibir el pedido\")\n",
    "        \n",
    "    else:   #el else se usa muy poco\n",
    "        print(\"El pedido se recibió correctamente\")\n",
    "        \n",
    "    finally:\n",
    "        print(\"Pedido finalizado\")"
   ]
  },
  {
   "cell_type": "code",
   "execution_count": 79,
   "metadata": {},
   "outputs": [
    {
     "name": "stdout",
     "output_type": "stream",
     "text": [
      "Inicia el pedido\n",
      "Error al recibir el pedido: Error al registrar la cantidad de pizzas y/o comensaales\n",
      "Pedido finalizado\n"
     ]
    }
   ],
   "source": [
    "dividir_pizzas(\"10\",\"20\")"
   ]
  },
  {
   "cell_type": "code",
   "execution_count": 84,
   "metadata": {},
   "outputs": [
    {
     "name": "stdout",
     "output_type": "stream",
     "text": [
      "Inicia el pedido\n",
      "Error al recibir el pedido: Parece que nadie quiere pizza :(\n",
      "Pedido finalizado\n"
     ]
    }
   ],
   "source": [
    "dividir_pizzas(10, 0)"
   ]
  },
  {
   "cell_type": "markdown",
   "metadata": {},
   "source": [
    "### Logging"
   ]
  },
  {
   "cell_type": "code",
   "execution_count": 97,
   "metadata": {},
   "outputs": [],
   "source": [
    "import traceback\n",
    "import logging\n",
    "\n",
    "logging.basicConfig(\n",
    "    filename=\"execution.log\",\n",
    "    level = logging.ERROR\n",
    ")\n",
    "\n",
    "logger = logging.getLogger(\"Delivery\")\n",
    "\n",
    "def dividir_pizzas(pizzas: int, comensales: int)->float:    #versión buenas prácticas\n",
    "    '''\n",
    "    Función para dividir en porciones las pizzas\n",
    "    '''\n",
    "    \n",
    "    logger.info(f\"Nuevo pedido de {pizzas} pizzas para {comensales} personas\")\n",
    "    try:\n",
    "        if not (type(pizzas) | type(comensales)) in (int, float):\n",
    "           raise CantidadInvalidaError \n",
    "        if comensales == 0:\n",
    "            raise NoRegistraComensalesError\n",
    "        porciones = pizzas/comensales\n",
    "        \n",
    "        logger.info(f\"El pedido es de {pizzas} pizzas, cada comensal puede comer {porciones} /pizza\")\n",
    "        \n",
    "    except (CantidadInvalidaError, NoRegistraComensalesError) as e:\n",
    "        logger.error(f\"Error al recibir el pedido: {e.message}\")\n",
    "    except Exception as e:\n",
    "        logger.error(f\"Error desconocido al recibir el pedido:\\n\")\n",
    "        logger.error(traceback.format_exc())\n",
    "        \n",
    "    else:   #el else se usa muy poco\n",
    "        logger.info(\"El pedido se recibió correctamente\")\n",
    "        \n",
    "    finally:\n",
    "        logger.info(\"Pedido finalizado\")"
   ]
  },
  {
   "cell_type": "code",
   "execution_count": 98,
   "metadata": {},
   "outputs": [
    {
     "name": "stderr",
     "output_type": "stream",
     "text": [
      "INFO:Delivery:Nuevo pedido de 10 pizzas para 0 personas\n",
      "ERROR:Delivery:Error al recibir el pedido: Parece que nadie quiere pizza :(\n",
      "INFO:Delivery:Pedido finalizado\n"
     ]
    }
   ],
   "source": [
    "dividir_pizzas(10, 0)"
   ]
  }
 ],
 "metadata": {
  "kernelspec": {
   "display_name": "base",
   "language": "python",
   "name": "python3"
  },
  "language_info": {
   "codemirror_mode": {
    "name": "ipython",
    "version": 3
   },
   "file_extension": ".py",
   "mimetype": "text/x-python",
   "name": "python",
   "nbconvert_exporter": "python",
   "pygments_lexer": "ipython3",
   "version": "3.10.9"
  }
 },
 "nbformat": 4,
 "nbformat_minor": 2
}
