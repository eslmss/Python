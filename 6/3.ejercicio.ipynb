{
 "cells": [
  {
   "cell_type": "markdown",
   "metadata": {},
   "source": [
    "ACLARACIÓN -> El código previo no es perfecto, se puede seguir mejorando.</br></br> El objetivo es aplicar las buenas prácticas estipuladas por la comunidad de Python y comprender el proceso de \"Error Handling\".</br></br>\n",
    "Por ejemplo:</br></br> -El error de types, no es recomendable pasarlo de esta forma dentro de un proyecto. La limitación del tipo de dato, es mejor manejarlo previo a la llamada de la función.</br>-Hay casos que dependen del entorno y bloques de código que no requieren un exahustivo manejo de errores. Lo veremos en casos reales, cuando avancemos con los otros temas.</br>\n",
    "- Podríamos incluir en los logs mucha información relevante como hora de ejecución, performance, etc."
   ]
  },
  {
   "cell_type": "markdown",
   "metadata": {},
   "source": [
    "##### Ejercicio para la próxima clase:"
   ]
  },
  {
   "cell_type": "markdown",
   "metadata": {},
   "source": [
    "1. Escribe una función que acepte una cadena (texto) y un número entero (indice) como argumentos. La función debe devolver el carácter de la cadena que se encuentra en el índice especificado por el número entero. Identifica y maneja los posibles errores. Incluir logging para todo los niveles; las sentencias try, raise, except, else and finally; incluye al final un assert para validar que la respuesta del código sea la correcta. Tal como lo hicimos recién, realiza en una notebook el paso a paso de como evoluciona la función."
   ]
  },
  {
   "cell_type": "code",
   "execution_count": 13,
   "metadata": {},
   "outputs": [],
   "source": [
    "def ubicar_char(texto:str, num:int)->str:\n",
    "    return texto[num]"
   ]
  },
  {
   "cell_type": "code",
   "execution_count": 18,
   "metadata": {},
   "outputs": [
    {
     "data": {
      "text/plain": [
       "'o'"
      ]
     },
     "execution_count": 18,
     "metadata": {},
     "output_type": "execute_result"
    }
   ],
   "source": [
    "ubicar_char(\"texto\",4)\n",
    "# IndexError    (int fuera del rango del str)\n",
    "# TypeError     (argumentos mal tipados)\n",
    "# Error Desconocido"
   ]
  },
  {
   "cell_type": "code",
   "execution_count": 46,
   "metadata": {},
   "outputs": [],
   "source": [
    "if 6 != 6:\n",
    "    print(\"no\")"
   ]
  },
  {
   "cell_type": "code",
   "execution_count": 35,
   "metadata": {},
   "outputs": [],
   "source": [
    "if (type(\"asd\") | type(4)) in (str, int):\n",
    "    print(\"not\")"
   ]
  }
 ],
 "metadata": {
  "kernelspec": {
   "display_name": "base",
   "language": "python",
   "name": "python3"
  },
  "language_info": {
   "codemirror_mode": {
    "name": "ipython",
    "version": 3
   },
   "file_extension": ".py",
   "mimetype": "text/x-python",
   "name": "python",
   "nbconvert_exporter": "python",
   "pygments_lexer": "ipython3",
   "version": "3.10.9"
  }
 },
 "nbformat": 4,
 "nbformat_minor": 2
}
