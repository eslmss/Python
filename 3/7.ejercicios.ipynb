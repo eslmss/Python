{
 "cells": [
  {
   "cell_type": "markdown",
   "metadata": {},
   "source": [
    "##### 1. Generar una lista con todos los números entre 1 y 100 divisibles por "
   ]
  },
  {
   "cell_type": "code",
   "execution_count": 65,
   "metadata": {},
   "outputs": [
    {
     "name": "stdout",
     "output_type": "stream",
     "text": [
      "[3, 6, 9, 12, 15, 18, 21, 24, 27, 30, 33, 36, 39, 42, 45, 48, 51, 54, 57, 60, 63, 66, 69, 72, 75, 78, 81, 84, 87, 90, 93, 96, 99]\n"
     ]
    }
   ],
   "source": [
    "print([num for num in range(1,100) if num%3==0])"
   ]
  },
  {
   "cell_type": "markdown",
   "metadata": {},
   "source": [
    "##### 2. Generar una lista con todos los números entre 1 y 100 que contienen al 6 como uno de sus dígitos"
   ]
  },
  {
   "cell_type": "code",
   "execution_count": 30,
   "metadata": {},
   "outputs": [
    {
     "data": {
      "text/plain": [
       "[6, 16, 26, 36, 46, 56, 60, 61, 62, 63, 64, 65, 66, 67, 68, 69, 76, 86, 96]"
      ]
     },
     "execution_count": 30,
     "metadata": {},
     "output_type": "execute_result"
    }
   ],
   "source": [
    "[num for num in range(1,100) if 6 in [int(digit) for digit in str(num)]]"
   ]
  },
  {
   "cell_type": "markdown",
   "metadata": {},
   "source": [
    "##### 3. Dada la siguiente oración, contar la cantidad de espacios en blanco:\n",
    "###### \"El mundo es tal vez el bosquejo rudimentario de algún dios infantil, que lo\n",
    "###### abandonó a medio hacer, avergonzado de su ejecución deficiente; es la obra de\n",
    "###### un dios subalterno, de quien los dioses superiores se burlan; es la confusa\n",
    "###### producción de una divinidad decrépita y jubilada, que ha se ha muerto\""
   ]
  },
  {
   "cell_type": "code",
   "execution_count": 36,
   "metadata": {},
   "outputs": [],
   "source": [
    "phrase = \"El mundo es tal vez el bosquejo rudimentario de algún dios infantil, que lo abandonó a medio hacer, avergonzado de su ejecución deficiente; es la obra de un dios subalterno, de quien los dioses superiores se burlan; es la confusa producción de una divinidad decrépita y jubilada, que ha se ha muerto\""
   ]
  },
  {
   "cell_type": "code",
   "execution_count": 37,
   "metadata": {},
   "outputs": [
    {
     "data": {
      "text/plain": [
       "51"
      ]
     },
     "execution_count": 37,
     "metadata": {},
     "output_type": "execute_result"
    }
   ],
   "source": [
    "phrase.count(\" \")"
   ]
  },
  {
   "cell_type": "code",
   "execution_count": 39,
   "metadata": {},
   "outputs": [
    {
     "data": {
      "text/plain": [
       "51"
      ]
     },
     "execution_count": 39,
     "metadata": {},
     "output_type": "execute_result"
    }
   ],
   "source": [
    "contador_espacios = 0\n",
    "for letter in phrase:\n",
    "    if letter == \" \":\n",
    "        contador_espacios += 1\n",
    "        \n",
    "contador_espacios"
   ]
  },
  {
   "cell_type": "markdown",
   "metadata": {},
   "source": [
    "#### 4. Eliminar todas las vocales en la frase anterior"
   ]
  },
  {
   "cell_type": "code",
   "execution_count": 45,
   "metadata": {},
   "outputs": [
    {
     "data": {
      "text/plain": [
       "'El mnd s tl vz l bsqj rdmntr d lgún ds nfntl, q l bndnó  md hcr, vrgnzd d s jccón dfcnt; s l br d n ds sbltrn, d qn ls dss sprrs s brln; s l cnfs prdccón d n dvndd dcrépt y jbld, q h s h mrt'"
      ]
     },
     "execution_count": 45,
     "metadata": {},
     "output_type": "execute_result"
    }
   ],
   "source": [
    "phrase_sin_vocales = \"\"\n",
    "for letter in phrase:\n",
    "    if letter not in ['a', 'e', 'i', 'o', 'u']:\n",
    "        phrase_sin_vocales += letter\n",
    "        \n",
    "phrase_sin_vocales"
   ]
  },
  {
   "cell_type": "markdown",
   "metadata": {},
   "source": [
    "#### 5. Generar un listado sin repeticiones con todas las palabras de la oración anterior que contengan menos de cinco caracteres.\n"
   ]
  },
  {
   "cell_type": "code",
   "execution_count": 64,
   "metadata": {},
   "outputs": [
    {
     "name": "stdout",
     "output_type": "stream",
     "text": [
      "['El', 'es', 'tal', 'vez', 'el', 'de', 'dios', 'que', 'lo', 'a', 'su', 'la', 'obra', 'un', 'los', 'se', 'una', 'y', 'ha']\n"
     ]
    }
   ],
   "source": [
    "palabras = phrase.split()\n",
    "palabras_con_menos_de_5_chars = []\n",
    "#print(palabras)\n",
    "for palabra in palabras:\n",
    "    if (len(palabra) < 5) and (palabra not in palabras_con_menos_de_5_chars):\n",
    "        palabras_con_menos_de_5_chars.append(palabra)\n",
    "        \n",
    "print(palabras_con_menos_de_5_chars)"
   ]
  },
  {
   "cell_type": "markdown",
   "metadata": {},
   "source": [
    "#### 6. Crear un diccionario que indique cada palbra de la oración anterior y la cantidad de caracteres en cada una de ellas."
   ]
  },
  {
   "cell_type": "code",
   "execution_count": 69,
   "metadata": {},
   "outputs": [
    {
     "data": {
      "text/plain": [
       "{'El': 2,\n",
       " 'es': 2,\n",
       " 'tal': 3,\n",
       " 'vez': 3,\n",
       " 'el': 2,\n",
       " 'de': 2,\n",
       " 'dios': 4,\n",
       " 'que': 3,\n",
       " 'lo': 2,\n",
       " 'a': 1,\n",
       " 'su': 2,\n",
       " 'la': 2,\n",
       " 'obra': 4,\n",
       " 'un': 2,\n",
       " 'los': 3,\n",
       " 'se': 2,\n",
       " 'una': 3,\n",
       " 'y': 1,\n",
       " 'ha': 2}"
      ]
     },
     "execution_count": 69,
     "metadata": {},
     "output_type": "execute_result"
    }
   ],
   "source": [
    "{palabra:longitud for palabra,longitud in zip(palabras_con_menos_de_5_chars, [len(word) for word in palabras_con_menos_de_5_chars])}\n",
    "# {i:j for i,j in zip(claves, valores)}   #en base al zip se crea un diccionario"
   ]
  },
  {
   "cell_type": "markdown",
   "metadata": {},
   "source": [
    "#### 7. Crear una lista con todos los números que aparecen en la siguiente oración:\n",
    "\"El Instituto Bibliográfico de Bruselas también ejerce\n",
    " el caos: ha parcelado el\n",
    "universo en 1000 subdivisiones de las cuales la 262 corresponde al Papa; la 282 a\n",
    "la Iglesia Católica Romana; la 263 , al Día del Señor, la 268 a las escuelas\n",
    "dominicales; la 298 al mormonismo, y la 294 , al brahamanismo, budismo,\n",
    "shintoismo y taoísmo.\""
   ]
  },
  {
   "cell_type": "code",
   "execution_count": 70,
   "metadata": {},
   "outputs": [],
   "source": [
    "oracion = \"El Instituto Bibliográfico de Bruselas también ejerce el caos: ha parcelado el universo en 1000 subdivisiones de las cuales la 262 corresponde al Papa; la 282 a la Iglesia Católica Romana; la 263 , al Día del Señor, la 268 a las escuelas dominicales; la 298 al mormonismo, y la 294 , al brahamanismo, budismo, shintoismo y taoísmo.\""
   ]
  },
  {
   "cell_type": "code",
   "execution_count": 84,
   "metadata": {},
   "outputs": [
    {
     "data": {
      "text/plain": [
       "['1000', '262', '282', '263', '268', '298', '294']"
      ]
     },
     "execution_count": 84,
     "metadata": {},
     "output_type": "execute_result"
    }
   ],
   "source": [
    "lista_numeros=[]\n",
    "nueva_oracion = oracion.split()\n",
    "for word in nueva_oracion:\n",
    "    if word.isnumeric():\n",
    "        lista_numeros.append(word)\n",
    "        \n",
    "lista_numeros"
   ]
  }
 ],
 "metadata": {
  "kernelspec": {
   "display_name": "base",
   "language": "python",
   "name": "python3"
  },
  "language_info": {
   "codemirror_mode": {
    "name": "ipython",
    "version": 3
   },
   "file_extension": ".py",
   "mimetype": "text/x-python",
   "name": "python",
   "nbconvert_exporter": "python",
   "pygments_lexer": "ipython3",
   "version": "3.10.9"
  }
 },
 "nbformat": 4,
 "nbformat_minor": 2
}
