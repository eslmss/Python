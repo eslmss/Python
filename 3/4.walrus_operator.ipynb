{
 "cells": [
  {
   "cell_type": "markdown",
   "metadata": {},
   "source": [
    "#### Walrus operator"
   ]
  },
  {
   "cell_type": "code",
   "execution_count": 1,
   "metadata": {},
   "outputs": [],
   "source": [
    "def f(n):\n",
    "    return n**2 + 1"
   ]
  },
  {
   "cell_type": "code",
   "execution_count": 2,
   "metadata": {},
   "outputs": [
    {
     "data": {
      "text/plain": [
       "[[2, 0.5],\n",
       " [5, 0.4],\n",
       " [10, 0.3],\n",
       " [17, 0.23529411764705882],\n",
       " [26, 0.19230769230769232]]"
      ]
     },
     "execution_count": 2,
     "metadata": {},
     "output_type": "execute_result"
    }
   ],
   "source": [
    "[[f(i), i/f(i)] for i in range(1,6)]    #aplica dos veces la misma funcion, no es performante si fuera una lista gigante"
   ]
  },
  {
   "cell_type": "code",
   "execution_count": 3,
   "metadata": {},
   "outputs": [
    {
     "data": {
      "text/plain": [
       "[[2, 0.5],\n",
       " [5, 0.4],\n",
       " [10, 0.3],\n",
       " [17, 0.23529411764705882],\n",
       " [26, 0.19230769230769232]]"
      ]
     },
     "execution_count": 3,
     "metadata": {},
     "output_type": "execute_result"
    }
   ],
   "source": [
    "[[y := f(i), i/y] for i in range(1,6)]  #performante, se asigna la funcion con el walrus operator a una variable"
   ]
  },
  {
   "cell_type": "code",
   "execution_count": 4,
   "metadata": {},
   "outputs": [
    {
     "data": {
      "text/plain": [
       "[[2, 0.5],\n",
       " [5, 0.4],\n",
       " [10, 0.3],\n",
       " [17, 0.23529411764705882],\n",
       " [26, 0.19230769230769232]]"
      ]
     },
     "execution_count": 4,
     "metadata": {},
     "output_type": "execute_result"
    }
   ],
   "source": [
    "[[y := (lambda x: x**2 + 1)(i), i/y] for i in range(1,6)]   #mismo que el anterior solo que creando la funcion dentro de la misma linea"
   ]
  }
 ],
 "metadata": {
  "kernelspec": {
   "display_name": "base",
   "language": "python",
   "name": "python3"
  },
  "language_info": {
   "codemirror_mode": {
    "name": "ipython",
    "version": 3
   },
   "file_extension": ".py",
   "mimetype": "text/x-python",
   "name": "python",
   "nbconvert_exporter": "python",
   "pygments_lexer": "ipython3",
   "version": "3.10.9"
  }
 },
 "nbformat": 4,
 "nbformat_minor": 2
}
