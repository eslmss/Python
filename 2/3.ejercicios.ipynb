{
 "cells": [
  {
   "cell_type": "markdown",
   "metadata": {},
   "source": [
    "##### 1) Escribir una función generadora que devuelva un par que contenga, como primer término, un índice y, como segundo, un ítem de una lista"
   ]
  },
  {
   "cell_type": "code",
   "execution_count": 1,
   "metadata": {},
   "outputs": [],
   "source": [
    "# lista_1 = [10, 20, 30, 40, 50]\n",
    "# print(i for i in lista_1)"
   ]
  },
  {
   "cell_type": "code",
   "execution_count": 2,
   "metadata": {},
   "outputs": [],
   "source": [
    "lista_1 = [10, 20, 30, 40, 50]\n",
    "def generador_punto1(lista):\n",
    "    i = 0\n",
    "    for val in lista:\n",
    "        yield (i, val)  # es como un return pero para cada linea de la lista en cuestion\n",
    "        i += 1"
   ]
  },
  {
   "cell_type": "code",
   "execution_count": 3,
   "metadata": {},
   "outputs": [
    {
     "name": "stdout",
     "output_type": "stream",
     "text": [
      "(0, 10)\n",
      "(1, 20)\n",
      "(2, 30)\n",
      "(3, 40)\n",
      "(4, 50)\n"
     ]
    }
   ],
   "source": [
    "for i in generador_punto1(lista_1):\n",
    "    print(i)"
   ]
  },
  {
   "cell_type": "markdown",
   "metadata": {},
   "source": [
    "##### 2) Escribir una función generadora que devuelva los (infinitos) elementos de la sucesión de Fibonacci."
   ]
  },
  {
   "cell_type": "code",
   "execution_count": 4,
   "metadata": {},
   "outputs": [
    {
     "name": "stdout",
     "output_type": "stream",
     "text": [
      "1   1   2   3   5   "
     ]
    }
   ],
   "source": [
    "def fibonacci(n): # no generadora\n",
    "    if n<=2:\n",
    "        return 1\n",
    "    return fibonacci(n-1) + fibonacci(n-2)\n",
    "\n",
    "for i in range(1, 6):\n",
    "    print(fibonacci(i), end=\"   \")"
   ]
  },
  {
   "cell_type": "code",
   "execution_count": 5,
   "metadata": {},
   "outputs": [],
   "source": [
    "def fibonacci_gen():\n",
    "    f_1 = 1\n",
    "    yield f_1\n",
    "    \n",
    "    f_2 = 1\n",
    "    yield f_2\n",
    "    \n",
    "    while True:\n",
    "        f_3 = f_1 + f_2\n",
    "        yield f_3\n",
    "        \n",
    "        f_1 = f_2\n",
    "        f_2 = f_3"
   ]
  },
  {
   "cell_type": "code",
   "execution_count": 6,
   "metadata": {},
   "outputs": [
    {
     "name": "stdout",
     "output_type": "stream",
     "text": [
      "1  1  2  3  5  8  13  "
     ]
    }
   ],
   "source": [
    "import time \n",
    "for i in fibonacci_gen():\n",
    "    print(i, end=\"  \")\n",
    "    time.sleep(0.5)"
   ]
  },
  {
   "cell_type": "markdown",
   "metadata": {},
   "source": [
    "##### 3) Escribir una función recursiva que reciba dos números y los multiplique"
   ]
  },
  {
   "cell_type": "code",
   "execution_count": null,
   "metadata": {},
   "outputs": [],
   "source": [
    "def multiplicacion_rec(n:int, m:int)->int:\n",
    "    if n==1:\n",
    "        return m\n",
    "    elif n==0:\n",
    "        return 0\n",
    "    else:\n",
    "        return m + multiplicacion_rec(n-1, m)"
   ]
  },
  {
   "cell_type": "code",
   "execution_count": null,
   "metadata": {},
   "outputs": [
    {
     "data": {
      "text/plain": [
       "0"
      ]
     },
     "execution_count": 3,
     "metadata": {},
     "output_type": "execute_result"
    }
   ],
   "source": [
    "multiplicacion_rec(0,2)"
   ]
  },
  {
   "cell_type": "markdown",
   "metadata": {},
   "source": [
    "##### 4) Escribir una función que reciba dos números, base y exponente, y retorne $base^{exponente}$"
   ]
  },
  {
   "cell_type": "code",
   "execution_count": 31,
   "metadata": {},
   "outputs": [],
   "source": [
    "def potencia_rec(b:int, e:int)->int:\n",
    "    if e==0:\n",
    "        return 1\n",
    "    else:\n",
    "        return b * potencia_rec(b, e-1)"
   ]
  },
  {
   "cell_type": "code",
   "execution_count": 30,
   "metadata": {},
   "outputs": [
    {
     "data": {
      "text/plain": [
       "1024"
      ]
     },
     "execution_count": 30,
     "metadata": {},
     "output_type": "execute_result"
    }
   ],
   "source": [
    "potencia_rec(2,10)"
   ]
  },
  {
   "cell_type": "markdown",
   "metadata": {},
   "source": [
    "##### 5) Escribir una función que reciba un número n e imprima todos los enteros desde n hasta 0"
   ]
  },
  {
   "cell_type": "code",
   "execution_count": 1,
   "metadata": {},
   "outputs": [],
   "source": [
    "def nums_hasta_0(n:int)->int:\n",
    "    if n==0:\n",
    "        print(n)\n",
    "        return None\n",
    "    print(n, end=\"  \")\n",
    "    return nums_hasta_0(n-1)"
   ]
  },
  {
   "cell_type": "code",
   "execution_count": 3,
   "metadata": {},
   "outputs": [
    {
     "name": "stdout",
     "output_type": "stream",
     "text": [
      "5  4  3  2  1  0\n"
     ]
    }
   ],
   "source": [
    "nums_hasta_0(5)"
   ]
  },
  {
   "cell_type": "markdown",
   "metadata": {},
   "source": [
    "##### 6) Escribir una función que calcule la suma de los n primeros números naturales"
   ]
  },
  {
   "cell_type": "markdown",
   "metadata": {},
   "source": [
    "##### 7) Escribir una función que calcule el mínimo común múltiplo de dos números"
   ]
  },
  {
   "cell_type": "markdown",
   "metadata": {},
   "source": [
    "##### 8) Escribir una función que reciba un texto e invierta el orden de sus caracteres. Ej: 'perro' -> 'orrep'"
   ]
  }
 ],
 "metadata": {
  "kernelspec": {
   "display_name": "base",
   "language": "python",
   "name": "python3"
  },
  "language_info": {
   "codemirror_mode": {
    "name": "ipython",
    "version": 3
   },
   "file_extension": ".py",
   "mimetype": "text/x-python",
   "name": "python",
   "nbconvert_exporter": "python",
   "pygments_lexer": "ipython3",
   "version": "3.10.9"
  }
 },
 "nbformat": 4,
 "nbformat_minor": 2
}
