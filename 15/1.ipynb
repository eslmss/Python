{
 "cells": [
  {
   "cell_type": "code",
   "execution_count": 76,
   "metadata": {},
   "outputs": [],
   "source": [
    "import pandas as pd\n",
    "from datetime import datetime"
   ]
  },
  {
   "cell_type": "code",
   "execution_count": 77,
   "metadata": {},
   "outputs": [],
   "source": [
    "data = {\n",
    "    'pais': ['Argentina', 'Chile', 'Brasil', 'Paraguay', 'Uruguay', 'Bolivia', 'Chile', 'Argentina', 'Chile', 'Brasil', 'Paraguay', 'Uruguay', 'Bolivia'],\n",
    "    'conversion_dolar': ['0.0043', '0.0013', '0.20', '0.00014', '0.026', '0.14','0.0013', '0.0046', '0.0012', '0.201', '0.000143', '0.0261', '0.15'], \n",
    "    'moneda': ['ARS', 'CLP', 'BRL R', 'PYG', 'UYU', 'BOB Bs', 'CLP', 'ARS', 'CLP', 'BRL R', 'PYG', 'UYU', 'BOB Bs'],\n",
    "    'last_update': ['2023-05-23 09:00:00', '2023-05-23 09:00:00', '2023-05-23 09:00:00', '2023-05-23 09:00:00', '2023-05-23 09:00:00', '2023-05-23 09:00:00', '2023-05-23 09:00:00', '2023-05-22 09:00:00', '2023-05-22 09:00:00', '2023-05-22 09:00:00', '2023-05-22 09:00:00', '2023-05-22 09:00:00', '2023-05-22 09:00:00']\n",
    "    }"
   ]
  },
  {
   "cell_type": "code",
   "execution_count": 78,
   "metadata": {},
   "outputs": [],
   "source": [
    "df = pd.DataFrame(data)"
   ]
  },
  {
   "cell_type": "code",
   "execution_count": 79,
   "metadata": {},
   "outputs": [
    {
     "data": {
      "text/html": [
       "<div>\n",
       "<style scoped>\n",
       "    .dataframe tbody tr th:only-of-type {\n",
       "        vertical-align: middle;\n",
       "    }\n",
       "\n",
       "    .dataframe tbody tr th {\n",
       "        vertical-align: top;\n",
       "    }\n",
       "\n",
       "    .dataframe thead th {\n",
       "        text-align: right;\n",
       "    }\n",
       "</style>\n",
       "<table border=\"1\" class=\"dataframe\">\n",
       "  <thead>\n",
       "    <tr style=\"text-align: right;\">\n",
       "      <th></th>\n",
       "      <th>pais</th>\n",
       "      <th>conversion_dolar</th>\n",
       "      <th>moneda</th>\n",
       "      <th>last_update</th>\n",
       "    </tr>\n",
       "  </thead>\n",
       "  <tbody>\n",
       "    <tr>\n",
       "      <th>0</th>\n",
       "      <td>Argentina</td>\n",
       "      <td>0.0043</td>\n",
       "      <td>ARS</td>\n",
       "      <td>2023-05-23 09:00:00</td>\n",
       "    </tr>\n",
       "    <tr>\n",
       "      <th>1</th>\n",
       "      <td>Chile</td>\n",
       "      <td>0.0013</td>\n",
       "      <td>CLP</td>\n",
       "      <td>2023-05-23 09:00:00</td>\n",
       "    </tr>\n",
       "    <tr>\n",
       "      <th>2</th>\n",
       "      <td>Brasil</td>\n",
       "      <td>0.20</td>\n",
       "      <td>BRL R</td>\n",
       "      <td>2023-05-23 09:00:00</td>\n",
       "    </tr>\n",
       "    <tr>\n",
       "      <th>3</th>\n",
       "      <td>Paraguay</td>\n",
       "      <td>0.00014</td>\n",
       "      <td>PYG</td>\n",
       "      <td>2023-05-23 09:00:00</td>\n",
       "    </tr>\n",
       "    <tr>\n",
       "      <th>4</th>\n",
       "      <td>Uruguay</td>\n",
       "      <td>0.026</td>\n",
       "      <td>UYU</td>\n",
       "      <td>2023-05-23 09:00:00</td>\n",
       "    </tr>\n",
       "    <tr>\n",
       "      <th>5</th>\n",
       "      <td>Bolivia</td>\n",
       "      <td>0.14</td>\n",
       "      <td>BOB Bs</td>\n",
       "      <td>2023-05-23 09:00:00</td>\n",
       "    </tr>\n",
       "    <tr>\n",
       "      <th>6</th>\n",
       "      <td>Chile</td>\n",
       "      <td>0.0013</td>\n",
       "      <td>CLP</td>\n",
       "      <td>2023-05-23 09:00:00</td>\n",
       "    </tr>\n",
       "    <tr>\n",
       "      <th>7</th>\n",
       "      <td>Argentina</td>\n",
       "      <td>0.0046</td>\n",
       "      <td>ARS</td>\n",
       "      <td>2023-05-22 09:00:00</td>\n",
       "    </tr>\n",
       "    <tr>\n",
       "      <th>8</th>\n",
       "      <td>Chile</td>\n",
       "      <td>0.0012</td>\n",
       "      <td>CLP</td>\n",
       "      <td>2023-05-22 09:00:00</td>\n",
       "    </tr>\n",
       "    <tr>\n",
       "      <th>9</th>\n",
       "      <td>Brasil</td>\n",
       "      <td>0.201</td>\n",
       "      <td>BRL R</td>\n",
       "      <td>2023-05-22 09:00:00</td>\n",
       "    </tr>\n",
       "    <tr>\n",
       "      <th>10</th>\n",
       "      <td>Paraguay</td>\n",
       "      <td>0.000143</td>\n",
       "      <td>PYG</td>\n",
       "      <td>2023-05-22 09:00:00</td>\n",
       "    </tr>\n",
       "    <tr>\n",
       "      <th>11</th>\n",
       "      <td>Uruguay</td>\n",
       "      <td>0.0261</td>\n",
       "      <td>UYU</td>\n",
       "      <td>2023-05-22 09:00:00</td>\n",
       "    </tr>\n",
       "    <tr>\n",
       "      <th>12</th>\n",
       "      <td>Bolivia</td>\n",
       "      <td>0.15</td>\n",
       "      <td>BOB Bs</td>\n",
       "      <td>2023-05-22 09:00:00</td>\n",
       "    </tr>\n",
       "  </tbody>\n",
       "</table>\n",
       "</div>"
      ],
      "text/plain": [
       "         pais conversion_dolar  moneda          last_update\n",
       "0   Argentina           0.0043     ARS  2023-05-23 09:00:00\n",
       "1       Chile           0.0013     CLP  2023-05-23 09:00:00\n",
       "2      Brasil             0.20   BRL R  2023-05-23 09:00:00\n",
       "3    Paraguay          0.00014     PYG  2023-05-23 09:00:00\n",
       "4     Uruguay            0.026     UYU  2023-05-23 09:00:00\n",
       "5     Bolivia             0.14  BOB Bs  2023-05-23 09:00:00\n",
       "6       Chile           0.0013     CLP  2023-05-23 09:00:00\n",
       "7   Argentina           0.0046     ARS  2023-05-22 09:00:00\n",
       "8       Chile           0.0012     CLP  2023-05-22 09:00:00\n",
       "9      Brasil            0.201   BRL R  2023-05-22 09:00:00\n",
       "10   Paraguay         0.000143     PYG  2023-05-22 09:00:00\n",
       "11    Uruguay           0.0261     UYU  2023-05-22 09:00:00\n",
       "12    Bolivia             0.15  BOB Bs  2023-05-22 09:00:00"
      ]
     },
     "execution_count": 79,
     "metadata": {},
     "output_type": "execute_result"
    }
   ],
   "source": [
    "df"
   ]
  },
  {
   "cell_type": "code",
   "execution_count": 80,
   "metadata": {},
   "outputs": [
    {
     "data": {
      "text/plain": [
       "pais                13\n",
       "conversion_dolar    13\n",
       "moneda              13\n",
       "last_update         13\n",
       "dtype: int64"
      ]
     },
     "execution_count": 80,
     "metadata": {},
     "output_type": "execute_result"
    }
   ],
   "source": [
    "df.count()"
   ]
  },
  {
   "cell_type": "markdown",
   "metadata": {},
   "source": [
    "### Se trabaja en funciones como buena práctica por si se quiere replicar lo mismo para varios df, o se podrian agrupar las funciones en una Clase LimpiezaDeDatos con el mismo fin. Quitar duplicados, transformaciones específicas, etc"
   ]
  },
  {
   "cell_type": "markdown",
   "metadata": {},
   "source": [
    "#### Drop Duplicates"
   ]
  },
  {
   "cell_type": "code",
   "execution_count": 81,
   "metadata": {},
   "outputs": [],
   "source": [
    "def quitar_duplicados(df):\n",
    "    df.drop_duplicates(inplace=True)\n",
    "    df.reset_index(drop=True, inplace=True) # buena practica para que el index no pegue saltos con los datos que borro\n",
    "    return df"
   ]
  },
  {
   "cell_type": "code",
   "execution_count": 82,
   "metadata": {},
   "outputs": [
    {
     "data": {
      "text/html": [
       "<div>\n",
       "<style scoped>\n",
       "    .dataframe tbody tr th:only-of-type {\n",
       "        vertical-align: middle;\n",
       "    }\n",
       "\n",
       "    .dataframe tbody tr th {\n",
       "        vertical-align: top;\n",
       "    }\n",
       "\n",
       "    .dataframe thead th {\n",
       "        text-align: right;\n",
       "    }\n",
       "</style>\n",
       "<table border=\"1\" class=\"dataframe\">\n",
       "  <thead>\n",
       "    <tr style=\"text-align: right;\">\n",
       "      <th></th>\n",
       "      <th>pais</th>\n",
       "      <th>conversion_dolar</th>\n",
       "      <th>moneda</th>\n",
       "      <th>last_update</th>\n",
       "    </tr>\n",
       "  </thead>\n",
       "  <tbody>\n",
       "    <tr>\n",
       "      <th>0</th>\n",
       "      <td>Argentina</td>\n",
       "      <td>0.0043</td>\n",
       "      <td>ARS</td>\n",
       "      <td>2023-05-23 09:00:00</td>\n",
       "    </tr>\n",
       "    <tr>\n",
       "      <th>1</th>\n",
       "      <td>Chile</td>\n",
       "      <td>0.0013</td>\n",
       "      <td>CLP</td>\n",
       "      <td>2023-05-23 09:00:00</td>\n",
       "    </tr>\n",
       "    <tr>\n",
       "      <th>2</th>\n",
       "      <td>Brasil</td>\n",
       "      <td>0.20</td>\n",
       "      <td>BRL R</td>\n",
       "      <td>2023-05-23 09:00:00</td>\n",
       "    </tr>\n",
       "    <tr>\n",
       "      <th>3</th>\n",
       "      <td>Paraguay</td>\n",
       "      <td>0.00014</td>\n",
       "      <td>PYG</td>\n",
       "      <td>2023-05-23 09:00:00</td>\n",
       "    </tr>\n",
       "    <tr>\n",
       "      <th>4</th>\n",
       "      <td>Uruguay</td>\n",
       "      <td>0.026</td>\n",
       "      <td>UYU</td>\n",
       "      <td>2023-05-23 09:00:00</td>\n",
       "    </tr>\n",
       "    <tr>\n",
       "      <th>5</th>\n",
       "      <td>Bolivia</td>\n",
       "      <td>0.14</td>\n",
       "      <td>BOB Bs</td>\n",
       "      <td>2023-05-23 09:00:00</td>\n",
       "    </tr>\n",
       "    <tr>\n",
       "      <th>6</th>\n",
       "      <td>Argentina</td>\n",
       "      <td>0.0046</td>\n",
       "      <td>ARS</td>\n",
       "      <td>2023-05-22 09:00:00</td>\n",
       "    </tr>\n",
       "    <tr>\n",
       "      <th>7</th>\n",
       "      <td>Chile</td>\n",
       "      <td>0.0012</td>\n",
       "      <td>CLP</td>\n",
       "      <td>2023-05-22 09:00:00</td>\n",
       "    </tr>\n",
       "    <tr>\n",
       "      <th>8</th>\n",
       "      <td>Brasil</td>\n",
       "      <td>0.201</td>\n",
       "      <td>BRL R</td>\n",
       "      <td>2023-05-22 09:00:00</td>\n",
       "    </tr>\n",
       "    <tr>\n",
       "      <th>9</th>\n",
       "      <td>Paraguay</td>\n",
       "      <td>0.000143</td>\n",
       "      <td>PYG</td>\n",
       "      <td>2023-05-22 09:00:00</td>\n",
       "    </tr>\n",
       "    <tr>\n",
       "      <th>10</th>\n",
       "      <td>Uruguay</td>\n",
       "      <td>0.0261</td>\n",
       "      <td>UYU</td>\n",
       "      <td>2023-05-22 09:00:00</td>\n",
       "    </tr>\n",
       "    <tr>\n",
       "      <th>11</th>\n",
       "      <td>Bolivia</td>\n",
       "      <td>0.15</td>\n",
       "      <td>BOB Bs</td>\n",
       "      <td>2023-05-22 09:00:00</td>\n",
       "    </tr>\n",
       "  </tbody>\n",
       "</table>\n",
       "</div>"
      ],
      "text/plain": [
       "         pais conversion_dolar  moneda          last_update\n",
       "0   Argentina           0.0043     ARS  2023-05-23 09:00:00\n",
       "1       Chile           0.0013     CLP  2023-05-23 09:00:00\n",
       "2      Brasil             0.20   BRL R  2023-05-23 09:00:00\n",
       "3    Paraguay          0.00014     PYG  2023-05-23 09:00:00\n",
       "4     Uruguay            0.026     UYU  2023-05-23 09:00:00\n",
       "5     Bolivia             0.14  BOB Bs  2023-05-23 09:00:00\n",
       "6   Argentina           0.0046     ARS  2023-05-22 09:00:00\n",
       "7       Chile           0.0012     CLP  2023-05-22 09:00:00\n",
       "8      Brasil            0.201   BRL R  2023-05-22 09:00:00\n",
       "9    Paraguay         0.000143     PYG  2023-05-22 09:00:00\n",
       "10    Uruguay           0.0261     UYU  2023-05-22 09:00:00\n",
       "11    Bolivia             0.15  BOB Bs  2023-05-22 09:00:00"
      ]
     },
     "execution_count": 82,
     "metadata": {},
     "output_type": "execute_result"
    }
   ],
   "source": [
    "quitar_duplicados(df)   # como tiene el inplace=True no hace falta asignarlo a un nuevo df\n",
    "#df_sin_duplicados\n",
    "df"
   ]
  },
  {
   "cell_type": "code",
   "execution_count": 83,
   "metadata": {},
   "outputs": [
    {
     "data": {
      "text/plain": [
       "pais                object\n",
       "conversion_dolar    object\n",
       "moneda              object\n",
       "last_update         object\n",
       "dtype: object"
      ]
     },
     "execution_count": 83,
     "metadata": {},
     "output_type": "execute_result"
    }
   ],
   "source": [
    "df.dtypes"
   ]
  },
  {
   "cell_type": "markdown",
   "metadata": {},
   "source": [
    "#### String to Date / Transformaciones de tipos de datos en general"
   ]
  },
  {
   "cell_type": "markdown",
   "metadata": {},
   "source": [
    "Forma 1"
   ]
  },
  {
   "cell_type": "code",
   "execution_count": 84,
   "metadata": {},
   "outputs": [],
   "source": [
    "def string_to_date(df, column):\n",
    "    df[column] = pd.to_datetime(df[column])\n",
    "    return df"
   ]
  },
  {
   "cell_type": "code",
   "execution_count": 85,
   "metadata": {},
   "outputs": [
    {
     "data": {
      "text/html": [
       "<div>\n",
       "<style scoped>\n",
       "    .dataframe tbody tr th:only-of-type {\n",
       "        vertical-align: middle;\n",
       "    }\n",
       "\n",
       "    .dataframe tbody tr th {\n",
       "        vertical-align: top;\n",
       "    }\n",
       "\n",
       "    .dataframe thead th {\n",
       "        text-align: right;\n",
       "    }\n",
       "</style>\n",
       "<table border=\"1\" class=\"dataframe\">\n",
       "  <thead>\n",
       "    <tr style=\"text-align: right;\">\n",
       "      <th></th>\n",
       "      <th>pais</th>\n",
       "      <th>conversion_dolar</th>\n",
       "      <th>moneda</th>\n",
       "      <th>last_update</th>\n",
       "    </tr>\n",
       "  </thead>\n",
       "  <tbody>\n",
       "    <tr>\n",
       "      <th>0</th>\n",
       "      <td>Argentina</td>\n",
       "      <td>0.0043</td>\n",
       "      <td>ARS</td>\n",
       "      <td>2023-05-23 09:00:00</td>\n",
       "    </tr>\n",
       "    <tr>\n",
       "      <th>1</th>\n",
       "      <td>Chile</td>\n",
       "      <td>0.0013</td>\n",
       "      <td>CLP</td>\n",
       "      <td>2023-05-23 09:00:00</td>\n",
       "    </tr>\n",
       "    <tr>\n",
       "      <th>2</th>\n",
       "      <td>Brasil</td>\n",
       "      <td>0.20</td>\n",
       "      <td>BRL R</td>\n",
       "      <td>2023-05-23 09:00:00</td>\n",
       "    </tr>\n",
       "    <tr>\n",
       "      <th>3</th>\n",
       "      <td>Paraguay</td>\n",
       "      <td>0.00014</td>\n",
       "      <td>PYG</td>\n",
       "      <td>2023-05-23 09:00:00</td>\n",
       "    </tr>\n",
       "    <tr>\n",
       "      <th>4</th>\n",
       "      <td>Uruguay</td>\n",
       "      <td>0.026</td>\n",
       "      <td>UYU</td>\n",
       "      <td>2023-05-23 09:00:00</td>\n",
       "    </tr>\n",
       "    <tr>\n",
       "      <th>5</th>\n",
       "      <td>Bolivia</td>\n",
       "      <td>0.14</td>\n",
       "      <td>BOB Bs</td>\n",
       "      <td>2023-05-23 09:00:00</td>\n",
       "    </tr>\n",
       "    <tr>\n",
       "      <th>6</th>\n",
       "      <td>Argentina</td>\n",
       "      <td>0.0046</td>\n",
       "      <td>ARS</td>\n",
       "      <td>2023-05-22 09:00:00</td>\n",
       "    </tr>\n",
       "    <tr>\n",
       "      <th>7</th>\n",
       "      <td>Chile</td>\n",
       "      <td>0.0012</td>\n",
       "      <td>CLP</td>\n",
       "      <td>2023-05-22 09:00:00</td>\n",
       "    </tr>\n",
       "    <tr>\n",
       "      <th>8</th>\n",
       "      <td>Brasil</td>\n",
       "      <td>0.201</td>\n",
       "      <td>BRL R</td>\n",
       "      <td>2023-05-22 09:00:00</td>\n",
       "    </tr>\n",
       "    <tr>\n",
       "      <th>9</th>\n",
       "      <td>Paraguay</td>\n",
       "      <td>0.000143</td>\n",
       "      <td>PYG</td>\n",
       "      <td>2023-05-22 09:00:00</td>\n",
       "    </tr>\n",
       "    <tr>\n",
       "      <th>10</th>\n",
       "      <td>Uruguay</td>\n",
       "      <td>0.0261</td>\n",
       "      <td>UYU</td>\n",
       "      <td>2023-05-22 09:00:00</td>\n",
       "    </tr>\n",
       "    <tr>\n",
       "      <th>11</th>\n",
       "      <td>Bolivia</td>\n",
       "      <td>0.15</td>\n",
       "      <td>BOB Bs</td>\n",
       "      <td>2023-05-22 09:00:00</td>\n",
       "    </tr>\n",
       "  </tbody>\n",
       "</table>\n",
       "</div>"
      ],
      "text/plain": [
       "         pais conversion_dolar  moneda         last_update\n",
       "0   Argentina           0.0043     ARS 2023-05-23 09:00:00\n",
       "1       Chile           0.0013     CLP 2023-05-23 09:00:00\n",
       "2      Brasil             0.20   BRL R 2023-05-23 09:00:00\n",
       "3    Paraguay          0.00014     PYG 2023-05-23 09:00:00\n",
       "4     Uruguay            0.026     UYU 2023-05-23 09:00:00\n",
       "5     Bolivia             0.14  BOB Bs 2023-05-23 09:00:00\n",
       "6   Argentina           0.0046     ARS 2023-05-22 09:00:00\n",
       "7       Chile           0.0012     CLP 2023-05-22 09:00:00\n",
       "8      Brasil            0.201   BRL R 2023-05-22 09:00:00\n",
       "9    Paraguay         0.000143     PYG 2023-05-22 09:00:00\n",
       "10    Uruguay           0.0261     UYU 2023-05-22 09:00:00\n",
       "11    Bolivia             0.15  BOB Bs 2023-05-22 09:00:00"
      ]
     },
     "execution_count": 85,
     "metadata": {},
     "output_type": "execute_result"
    }
   ],
   "source": [
    "df_fecha = string_to_date(df, column='last_update')\n",
    "df_fecha"
   ]
  },
  {
   "cell_type": "code",
   "execution_count": 86,
   "metadata": {},
   "outputs": [
    {
     "data": {
      "text/plain": [
       "pais                        object\n",
       "conversion_dolar            object\n",
       "moneda                      object\n",
       "last_update         datetime64[ns]\n",
       "dtype: object"
      ]
     },
     "execution_count": 86,
     "metadata": {},
     "output_type": "execute_result"
    }
   ],
   "source": [
    "df_fecha.dtypes"
   ]
  },
  {
   "cell_type": "markdown",
   "metadata": {},
   "source": [
    "Forma 2"
   ]
  },
  {
   "cell_type": "code",
   "execution_count": 87,
   "metadata": {},
   "outputs": [],
   "source": [
    "def string_to_timestamp(df, column, formato):\n",
    "    df[column] = pd.to_datetime(df[column].dt.strftime(formato))\n",
    "    return df"
   ]
  },
  {
   "cell_type": "code",
   "execution_count": 88,
   "metadata": {},
   "outputs": [
    {
     "data": {
      "text/html": [
       "<div>\n",
       "<style scoped>\n",
       "    .dataframe tbody tr th:only-of-type {\n",
       "        vertical-align: middle;\n",
       "    }\n",
       "\n",
       "    .dataframe tbody tr th {\n",
       "        vertical-align: top;\n",
       "    }\n",
       "\n",
       "    .dataframe thead th {\n",
       "        text-align: right;\n",
       "    }\n",
       "</style>\n",
       "<table border=\"1\" class=\"dataframe\">\n",
       "  <thead>\n",
       "    <tr style=\"text-align: right;\">\n",
       "      <th></th>\n",
       "      <th>pais</th>\n",
       "      <th>conversion_dolar</th>\n",
       "      <th>moneda</th>\n",
       "      <th>last_update</th>\n",
       "    </tr>\n",
       "  </thead>\n",
       "  <tbody>\n",
       "    <tr>\n",
       "      <th>0</th>\n",
       "      <td>Argentina</td>\n",
       "      <td>0.0043</td>\n",
       "      <td>ARS</td>\n",
       "      <td>2023-05-23</td>\n",
       "    </tr>\n",
       "    <tr>\n",
       "      <th>1</th>\n",
       "      <td>Chile</td>\n",
       "      <td>0.0013</td>\n",
       "      <td>CLP</td>\n",
       "      <td>2023-05-23</td>\n",
       "    </tr>\n",
       "    <tr>\n",
       "      <th>2</th>\n",
       "      <td>Brasil</td>\n",
       "      <td>0.20</td>\n",
       "      <td>BRL R</td>\n",
       "      <td>2023-05-23</td>\n",
       "    </tr>\n",
       "    <tr>\n",
       "      <th>3</th>\n",
       "      <td>Paraguay</td>\n",
       "      <td>0.00014</td>\n",
       "      <td>PYG</td>\n",
       "      <td>2023-05-23</td>\n",
       "    </tr>\n",
       "    <tr>\n",
       "      <th>4</th>\n",
       "      <td>Uruguay</td>\n",
       "      <td>0.026</td>\n",
       "      <td>UYU</td>\n",
       "      <td>2023-05-23</td>\n",
       "    </tr>\n",
       "    <tr>\n",
       "      <th>5</th>\n",
       "      <td>Bolivia</td>\n",
       "      <td>0.14</td>\n",
       "      <td>BOB Bs</td>\n",
       "      <td>2023-05-23</td>\n",
       "    </tr>\n",
       "    <tr>\n",
       "      <th>6</th>\n",
       "      <td>Argentina</td>\n",
       "      <td>0.0046</td>\n",
       "      <td>ARS</td>\n",
       "      <td>2023-05-22</td>\n",
       "    </tr>\n",
       "    <tr>\n",
       "      <th>7</th>\n",
       "      <td>Chile</td>\n",
       "      <td>0.0012</td>\n",
       "      <td>CLP</td>\n",
       "      <td>2023-05-22</td>\n",
       "    </tr>\n",
       "    <tr>\n",
       "      <th>8</th>\n",
       "      <td>Brasil</td>\n",
       "      <td>0.201</td>\n",
       "      <td>BRL R</td>\n",
       "      <td>2023-05-22</td>\n",
       "    </tr>\n",
       "    <tr>\n",
       "      <th>9</th>\n",
       "      <td>Paraguay</td>\n",
       "      <td>0.000143</td>\n",
       "      <td>PYG</td>\n",
       "      <td>2023-05-22</td>\n",
       "    </tr>\n",
       "    <tr>\n",
       "      <th>10</th>\n",
       "      <td>Uruguay</td>\n",
       "      <td>0.0261</td>\n",
       "      <td>UYU</td>\n",
       "      <td>2023-05-22</td>\n",
       "    </tr>\n",
       "    <tr>\n",
       "      <th>11</th>\n",
       "      <td>Bolivia</td>\n",
       "      <td>0.15</td>\n",
       "      <td>BOB Bs</td>\n",
       "      <td>2023-05-22</td>\n",
       "    </tr>\n",
       "  </tbody>\n",
       "</table>\n",
       "</div>"
      ],
      "text/plain": [
       "         pais conversion_dolar  moneda last_update\n",
       "0   Argentina           0.0043     ARS  2023-05-23\n",
       "1       Chile           0.0013     CLP  2023-05-23\n",
       "2      Brasil             0.20   BRL R  2023-05-23\n",
       "3    Paraguay          0.00014     PYG  2023-05-23\n",
       "4     Uruguay            0.026     UYU  2023-05-23\n",
       "5     Bolivia             0.14  BOB Bs  2023-05-23\n",
       "6   Argentina           0.0046     ARS  2023-05-22\n",
       "7       Chile           0.0012     CLP  2023-05-22\n",
       "8      Brasil            0.201   BRL R  2023-05-22\n",
       "9    Paraguay         0.000143     PYG  2023-05-22\n",
       "10    Uruguay           0.0261     UYU  2023-05-22\n",
       "11    Bolivia             0.15  BOB Bs  2023-05-22"
      ]
     },
     "execution_count": 88,
     "metadata": {},
     "output_type": "execute_result"
    }
   ],
   "source": [
    "df_formato_date = string_to_timestamp(df, column='last_update', formato='%Y-%m-%d')\n",
    "df_formato_date"
   ]
  },
  {
   "cell_type": "code",
   "execution_count": 89,
   "metadata": {},
   "outputs": [
    {
     "data": {
      "text/plain": [
       "pais                        object\n",
       "conversion_dolar            object\n",
       "moneda                      object\n",
       "last_update         datetime64[ns]\n",
       "dtype: object"
      ]
     },
     "execution_count": 89,
     "metadata": {},
     "output_type": "execute_result"
    }
   ],
   "source": [
    "df_formato_date.dtypes"
   ]
  },
  {
   "cell_type": "markdown",
   "metadata": {},
   "source": [
    "Forma 3"
   ]
  },
  {
   "cell_type": "code",
   "execution_count": 90,
   "metadata": {},
   "outputs": [],
   "source": [
    "def dtype_convert(df, detail_dict):\n",
    "    for column, new_type in detail_dict.items():\n",
    "        if new_type == 'datetime':  # porque suele romper cuando son fechas\n",
    "            df[column] = pd.to_datetime(df[column])\n",
    "        else:\n",
    "            df[column] = df[column].astype(new_type)\n",
    "    return df"
   ]
  },
  {
   "cell_type": "code",
   "execution_count": 91,
   "metadata": {},
   "outputs": [],
   "source": [
    "detail = {  # puede ser int, float, str/object, datetime, category\n",
    "    'pais': 'category',\n",
    "    'conversion_dolar': 'float',\n",
    "    'moneda': 'str',\n",
    "    'last_update': 'datetime'\n",
    "    }"
   ]
  },
  {
   "cell_type": "code",
   "execution_count": 92,
   "metadata": {},
   "outputs": [
    {
     "data": {
      "text/plain": [
       "pais                      category\n",
       "conversion_dolar           float64\n",
       "moneda                      object\n",
       "last_update         datetime64[ns]\n",
       "dtype: object"
      ]
     },
     "execution_count": 92,
     "metadata": {},
     "output_type": "execute_result"
    }
   ],
   "source": [
    "df_types = dtype_convert(df, detail)\n",
    "df_types.dtypes"
   ]
  },
  {
   "cell_type": "markdown",
   "metadata": {},
   "source": [
    "#### Categorías"
   ]
  },
  {
   "cell_type": "code",
   "execution_count": 93,
   "metadata": {},
   "outputs": [
    {
     "data": {
      "text/plain": [
       "Index(['Argentina', 'Bolivia', 'Brasil', 'Chile', 'Paraguay', 'Uruguay'], dtype='object')"
      ]
     },
     "execution_count": 93,
     "metadata": {},
     "output_type": "execute_result"
    }
   ],
   "source": [
    "df_types['pais'].cat.categories"
   ]
  },
  {
   "cell_type": "code",
   "execution_count": 94,
   "metadata": {},
   "outputs": [
    {
     "data": {
      "text/html": [
       "<div>\n",
       "<style scoped>\n",
       "    .dataframe tbody tr th:only-of-type {\n",
       "        vertical-align: middle;\n",
       "    }\n",
       "\n",
       "    .dataframe tbody tr th {\n",
       "        vertical-align: top;\n",
       "    }\n",
       "\n",
       "    .dataframe thead th {\n",
       "        text-align: right;\n",
       "    }\n",
       "</style>\n",
       "<table border=\"1\" class=\"dataframe\">\n",
       "  <thead>\n",
       "    <tr style=\"text-align: right;\">\n",
       "      <th></th>\n",
       "      <th>moneda</th>\n",
       "      <th>conversion_dolar</th>\n",
       "      <th>last_update</th>\n",
       "    </tr>\n",
       "  </thead>\n",
       "  <tbody>\n",
       "    <tr>\n",
       "      <th>0</th>\n",
       "      <td>ARS</td>\n",
       "      <td>0.0043</td>\n",
       "      <td>2023-05-23</td>\n",
       "    </tr>\n",
       "    <tr>\n",
       "      <th>6</th>\n",
       "      <td>ARS</td>\n",
       "      <td>0.0046</td>\n",
       "      <td>2023-05-22</td>\n",
       "    </tr>\n",
       "  </tbody>\n",
       "</table>\n",
       "</div>"
      ],
      "text/plain": [
       "  moneda  conversion_dolar last_update\n",
       "0    ARS            0.0043  2023-05-23\n",
       "6    ARS            0.0046  2023-05-22"
      ]
     },
     "execution_count": 94,
     "metadata": {},
     "output_type": "execute_result"
    }
   ],
   "source": [
    "df_filtrado = df_types[df_types['pais'] == 'Argentina']\n",
    "select_columns = ['moneda', 'conversion_dolar', 'last_update']\n",
    "\n",
    "df_filtrado[select_columns]"
   ]
  },
  {
   "cell_type": "markdown",
   "metadata": {},
   "source": [
    "Ordenar por orden customizado"
   ]
  },
  {
   "cell_type": "code",
   "execution_count": 95,
   "metadata": {},
   "outputs": [
    {
     "data": {
      "text/html": [
       "<div>\n",
       "<style scoped>\n",
       "    .dataframe tbody tr th:only-of-type {\n",
       "        vertical-align: middle;\n",
       "    }\n",
       "\n",
       "    .dataframe tbody tr th {\n",
       "        vertical-align: top;\n",
       "    }\n",
       "\n",
       "    .dataframe thead th {\n",
       "        text-align: right;\n",
       "    }\n",
       "</style>\n",
       "<table border=\"1\" class=\"dataframe\">\n",
       "  <thead>\n",
       "    <tr style=\"text-align: right;\">\n",
       "      <th></th>\n",
       "      <th>pais</th>\n",
       "      <th>conversion_dolar</th>\n",
       "      <th>moneda</th>\n",
       "      <th>last_update</th>\n",
       "    </tr>\n",
       "  </thead>\n",
       "  <tbody>\n",
       "    <tr>\n",
       "      <th>4</th>\n",
       "      <td>Uruguay</td>\n",
       "      <td>0.026000</td>\n",
       "      <td>UYU</td>\n",
       "      <td>2023-05-23</td>\n",
       "    </tr>\n",
       "    <tr>\n",
       "      <th>10</th>\n",
       "      <td>Uruguay</td>\n",
       "      <td>0.026100</td>\n",
       "      <td>UYU</td>\n",
       "      <td>2023-05-22</td>\n",
       "    </tr>\n",
       "    <tr>\n",
       "      <th>0</th>\n",
       "      <td>Argentina</td>\n",
       "      <td>0.004300</td>\n",
       "      <td>ARS</td>\n",
       "      <td>2023-05-23</td>\n",
       "    </tr>\n",
       "    <tr>\n",
       "      <th>6</th>\n",
       "      <td>Argentina</td>\n",
       "      <td>0.004600</td>\n",
       "      <td>ARS</td>\n",
       "      <td>2023-05-22</td>\n",
       "    </tr>\n",
       "    <tr>\n",
       "      <th>5</th>\n",
       "      <td>Bolivia</td>\n",
       "      <td>0.140000</td>\n",
       "      <td>BOB Bs</td>\n",
       "      <td>2023-05-23</td>\n",
       "    </tr>\n",
       "    <tr>\n",
       "      <th>11</th>\n",
       "      <td>Bolivia</td>\n",
       "      <td>0.150000</td>\n",
       "      <td>BOB Bs</td>\n",
       "      <td>2023-05-22</td>\n",
       "    </tr>\n",
       "    <tr>\n",
       "      <th>2</th>\n",
       "      <td>Brasil</td>\n",
       "      <td>0.200000</td>\n",
       "      <td>BRL R</td>\n",
       "      <td>2023-05-23</td>\n",
       "    </tr>\n",
       "    <tr>\n",
       "      <th>8</th>\n",
       "      <td>Brasil</td>\n",
       "      <td>0.201000</td>\n",
       "      <td>BRL R</td>\n",
       "      <td>2023-05-22</td>\n",
       "    </tr>\n",
       "    <tr>\n",
       "      <th>1</th>\n",
       "      <td>Chile</td>\n",
       "      <td>0.001300</td>\n",
       "      <td>CLP</td>\n",
       "      <td>2023-05-23</td>\n",
       "    </tr>\n",
       "    <tr>\n",
       "      <th>7</th>\n",
       "      <td>Chile</td>\n",
       "      <td>0.001200</td>\n",
       "      <td>CLP</td>\n",
       "      <td>2023-05-22</td>\n",
       "    </tr>\n",
       "    <tr>\n",
       "      <th>3</th>\n",
       "      <td>Paraguay</td>\n",
       "      <td>0.000140</td>\n",
       "      <td>PYG</td>\n",
       "      <td>2023-05-23</td>\n",
       "    </tr>\n",
       "    <tr>\n",
       "      <th>9</th>\n",
       "      <td>Paraguay</td>\n",
       "      <td>0.000143</td>\n",
       "      <td>PYG</td>\n",
       "      <td>2023-05-22</td>\n",
       "    </tr>\n",
       "  </tbody>\n",
       "</table>\n",
       "</div>"
      ],
      "text/plain": [
       "         pais  conversion_dolar  moneda last_update\n",
       "4     Uruguay          0.026000     UYU  2023-05-23\n",
       "10    Uruguay          0.026100     UYU  2023-05-22\n",
       "0   Argentina          0.004300     ARS  2023-05-23\n",
       "6   Argentina          0.004600     ARS  2023-05-22\n",
       "5     Bolivia          0.140000  BOB Bs  2023-05-23\n",
       "11    Bolivia          0.150000  BOB Bs  2023-05-22\n",
       "2      Brasil          0.200000   BRL R  2023-05-23\n",
       "8      Brasil          0.201000   BRL R  2023-05-22\n",
       "1       Chile          0.001300     CLP  2023-05-23\n",
       "7       Chile          0.001200     CLP  2023-05-22\n",
       "3    Paraguay          0.000140     PYG  2023-05-23\n",
       "9    Paraguay          0.000143     PYG  2023-05-22"
      ]
     },
     "execution_count": 95,
     "metadata": {},
     "output_type": "execute_result"
    }
   ],
   "source": [
    "df_types['pais'] = df_types['pais'].cat.reorder_categories(['Uruguay', 'Argentina', 'Bolivia', 'Brasil', 'Chile', 'Paraguay'])\n",
    "df_ordenado = df_types.sort_values(by='pais')\n",
    "df_ordenado"
   ]
  },
  {
   "cell_type": "markdown",
   "metadata": {},
   "source": [
    "#### Metricas"
   ]
  },
  {
   "cell_type": "markdown",
   "metadata": {},
   "source": [
    "##### Hallar variación de cotización"
   ]
  },
  {
   "cell_type": "code",
   "execution_count": 96,
   "metadata": {},
   "outputs": [
    {
     "name": "stderr",
     "output_type": "stream",
     "text": [
      "C:\\Users\\sms\\AppData\\Local\\Temp\\ipykernel_9884\\299477742.py:2: SettingWithCopyWarning: \n",
      "A value is trying to be set on a copy of a slice from a DataFrame\n",
      "\n",
      "See the caveats in the documentation: https://pandas.pydata.org/pandas-docs/stable/user_guide/indexing.html#returning-a-view-versus-a-copy\n",
      "  df.drop_duplicates(inplace=True)\n"
     ]
    },
    {
     "data": {
      "text/html": [
       "<div>\n",
       "<style scoped>\n",
       "    .dataframe tbody tr th:only-of-type {\n",
       "        vertical-align: middle;\n",
       "    }\n",
       "\n",
       "    .dataframe tbody tr th {\n",
       "        vertical-align: top;\n",
       "    }\n",
       "\n",
       "    .dataframe thead th {\n",
       "        text-align: right;\n",
       "    }\n",
       "</style>\n",
       "<table border=\"1\" class=\"dataframe\">\n",
       "  <thead>\n",
       "    <tr style=\"text-align: right;\">\n",
       "      <th></th>\n",
       "      <th>pais</th>\n",
       "      <th>moneda</th>\n",
       "    </tr>\n",
       "  </thead>\n",
       "  <tbody>\n",
       "    <tr>\n",
       "      <th>0</th>\n",
       "      <td>Uruguay</td>\n",
       "      <td>UYU</td>\n",
       "    </tr>\n",
       "    <tr>\n",
       "      <th>1</th>\n",
       "      <td>Argentina</td>\n",
       "      <td>ARS</td>\n",
       "    </tr>\n",
       "    <tr>\n",
       "      <th>2</th>\n",
       "      <td>Bolivia</td>\n",
       "      <td>BOB Bs</td>\n",
       "    </tr>\n",
       "    <tr>\n",
       "      <th>3</th>\n",
       "      <td>Brasil</td>\n",
       "      <td>BRL R</td>\n",
       "    </tr>\n",
       "    <tr>\n",
       "      <th>4</th>\n",
       "      <td>Chile</td>\n",
       "      <td>CLP</td>\n",
       "    </tr>\n",
       "    <tr>\n",
       "      <th>5</th>\n",
       "      <td>Paraguay</td>\n",
       "      <td>PYG</td>\n",
       "    </tr>\n",
       "  </tbody>\n",
       "</table>\n",
       "</div>"
      ],
      "text/plain": [
       "        pais  moneda\n",
       "0    Uruguay     UYU\n",
       "1  Argentina     ARS\n",
       "2    Bolivia  BOB Bs\n",
       "3     Brasil   BRL R\n",
       "4      Chile     CLP\n",
       "5   Paraguay     PYG"
      ]
     },
     "execution_count": 96,
     "metadata": {},
     "output_type": "execute_result"
    }
   ],
   "source": [
    "selected_columns = ['pais', 'moneda']\n",
    "df_sin_duplicados = quitar_duplicados(df_ordenado[selected_columns])\n",
    "df_sin_duplicados"
   ]
  },
  {
   "cell_type": "code",
   "execution_count": 102,
   "metadata": {},
   "outputs": [
    {
     "ename": "TypeError",
     "evalue": "You have to supply one of 'by' and 'level'",
     "output_type": "error",
     "traceback": [
      "\u001b[1;31m---------------------------------------------------------------------------\u001b[0m",
      "\u001b[1;31mTypeError\u001b[0m                                 Traceback (most recent call last)",
      "\u001b[1;32m~\\AppData\\Local\\Temp\\ipykernel_9884\\3776479906.py\u001b[0m in \u001b[0;36m?\u001b[1;34m()\u001b[0m\n\u001b[0;32m      1\u001b[0m \u001b[1;31m#df_ordenado['variación_dolar'] = df['conversion_dolar'].pct_change()\u001b[0m\u001b[1;33m\u001b[0m\u001b[1;33m\u001b[0m\u001b[0m\n\u001b[0;32m      2\u001b[0m \u001b[0mdf_ordenado\u001b[0m \u001b[1;33m=\u001b[0m \u001b[0mdf_types\u001b[0m\u001b[1;33m.\u001b[0m\u001b[0msort_values\u001b[0m\u001b[1;33m(\u001b[0m\u001b[0mby\u001b[0m\u001b[1;33m=\u001b[0m\u001b[1;33m[\u001b[0m\u001b[1;34m'pais'\u001b[0m\u001b[1;33m,\u001b[0m \u001b[1;34m'last_update'\u001b[0m\u001b[1;33m]\u001b[0m\u001b[1;33m)\u001b[0m\u001b[1;33m\u001b[0m\u001b[1;33m\u001b[0m\u001b[0m\n\u001b[0;32m      3\u001b[0m \u001b[0mdf_ordenado\u001b[0m\u001b[1;33m[\u001b[0m\u001b[1;34m'variacion_dolar'\u001b[0m\u001b[1;33m]\u001b[0m \u001b[1;33m=\u001b[0m \u001b[0mdf_ordenado\u001b[0m\u001b[1;33m[\u001b[0m\u001b[1;34m'conversion_dolar'\u001b[0m\u001b[1;33m]\u001b[0m\u001b[1;33m.\u001b[0m\u001b[0mpct_change\u001b[0m\u001b[1;33m(\u001b[0m\u001b[1;33m)\u001b[0m\u001b[1;33m\u001b[0m\u001b[1;33m\u001b[0m\u001b[0m\n\u001b[1;32m----> 4\u001b[1;33m \u001b[0mdf_ordenado\u001b[0m\u001b[1;33m.\u001b[0m\u001b[0mgroupby\u001b[0m\u001b[1;33m(\u001b[0m\u001b[1;33m)\u001b[0m \u001b[1;31m# ta mal\u001b[0m\u001b[1;33m\u001b[0m\u001b[1;33m\u001b[0m\u001b[0m\n\u001b[0m",
      "\u001b[1;32mc:\\Users\\sms\\AppData\\Local\\Programs\\Python\\Python312\\Lib\\site-packages\\pandas\\core\\frame.py\u001b[0m in \u001b[0;36m?\u001b[1;34m(self, by, axis, level, as_index, sort, group_keys, observed, dropna)\u001b[0m\n\u001b[0;32m   8863\u001b[0m \u001b[1;33m\u001b[0m\u001b[0m\n\u001b[0;32m   8864\u001b[0m         \u001b[1;32mfrom\u001b[0m \u001b[0mpandas\u001b[0m\u001b[1;33m.\u001b[0m\u001b[0mcore\u001b[0m\u001b[1;33m.\u001b[0m\u001b[0mgroupby\u001b[0m\u001b[1;33m.\u001b[0m\u001b[0mgeneric\u001b[0m \u001b[1;32mimport\u001b[0m \u001b[0mDataFrameGroupBy\u001b[0m\u001b[1;33m\u001b[0m\u001b[1;33m\u001b[0m\u001b[0m\n\u001b[0;32m   8865\u001b[0m \u001b[1;33m\u001b[0m\u001b[0m\n\u001b[0;32m   8866\u001b[0m         \u001b[1;32mif\u001b[0m \u001b[0mlevel\u001b[0m \u001b[1;32mis\u001b[0m \u001b[1;32mNone\u001b[0m \u001b[1;32mand\u001b[0m \u001b[0mby\u001b[0m \u001b[1;32mis\u001b[0m \u001b[1;32mNone\u001b[0m\u001b[1;33m:\u001b[0m\u001b[1;33m\u001b[0m\u001b[1;33m\u001b[0m\u001b[0m\n\u001b[1;32m-> 8867\u001b[1;33m             \u001b[1;32mraise\u001b[0m \u001b[0mTypeError\u001b[0m\u001b[1;33m(\u001b[0m\u001b[1;34m\"You have to supply one of 'by' and 'level'\"\u001b[0m\u001b[1;33m)\u001b[0m\u001b[1;33m\u001b[0m\u001b[1;33m\u001b[0m\u001b[0m\n\u001b[0m\u001b[0;32m   8868\u001b[0m \u001b[1;33m\u001b[0m\u001b[0m\n\u001b[0;32m   8869\u001b[0m         return DataFrameGroupBy(\n\u001b[0;32m   8870\u001b[0m             \u001b[0mobj\u001b[0m\u001b[1;33m=\u001b[0m\u001b[0mself\u001b[0m\u001b[1;33m,\u001b[0m\u001b[1;33m\u001b[0m\u001b[1;33m\u001b[0m\u001b[0m\n",
      "\u001b[1;31mTypeError\u001b[0m: You have to supply one of 'by' and 'level'"
     ]
    }
   ],
   "source": [
    "#df_ordenado['variación_dolar'] = df['conversion_dolar'].pct_change()\n",
    "df_ordenado = df_types.sort_values(by=['pais', 'last_update'])\n",
    "df_ordenado['variacion_dolar'] = df_ordenado['conversion_dolar'].pct_change()\n",
    "df_ordenado.groupby() # ta mal"
   ]
  }
 ],
 "metadata": {
  "kernelspec": {
   "display_name": "Python 3",
   "language": "python",
   "name": "python3"
  },
  "language_info": {
   "codemirror_mode": {
    "name": "ipython",
    "version": 3
   },
   "file_extension": ".py",
   "mimetype": "text/x-python",
   "name": "python",
   "nbconvert_exporter": "python",
   "pygments_lexer": "ipython3",
   "version": "3.12.0"
  }
 },
 "nbformat": 4,
 "nbformat_minor": 2
}
