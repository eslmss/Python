{
 "cells": [
  {
   "cell_type": "code",
   "execution_count": 1,
   "metadata": {},
   "outputs": [],
   "source": [
    "import re"
   ]
  },
  {
   "cell_type": "markdown",
   "metadata": {},
   "source": [
    "#### Repaso"
   ]
  },
  {
   "cell_type": "code",
   "execution_count": 8,
   "metadata": {},
   "outputs": [
    {
     "data": {
      "text/plain": [
       "'a'"
      ]
     },
     "execution_count": 8,
     "metadata": {},
     "output_type": "execute_result"
    }
   ],
   "source": [
    "re.search('a', 'palarbra').group()  #devuelve un objeto tipo match, con el group() devuelve el str solo"
   ]
  },
  {
   "cell_type": "code",
   "execution_count": 9,
   "metadata": {},
   "outputs": [
    {
     "data": {
      "text/plain": [
       "['a', 'a', 'a']"
      ]
     },
     "execution_count": 9,
     "metadata": {},
     "output_type": "execute_result"
    }
   ],
   "source": [
    "re.findall('a','palabra')  #devuelve una lista"
   ]
  },
  {
   "cell_type": "code",
   "execution_count": 10,
   "metadata": {},
   "outputs": [
    {
     "data": {
      "text/plain": [
       "'p*l*br*'"
      ]
     },
     "execution_count": 10,
     "metadata": {},
     "output_type": "execute_result"
    }
   ],
   "source": [
    "re.sub('a','*','palabra')"
   ]
  },
  {
   "cell_type": "code",
   "execution_count": 42,
   "metadata": {},
   "outputs": [
    {
     "name": "stdout",
     "output_type": "stream",
     "text": [
      "abbbb\n",
      "ababab\n",
      "ab\n",
      "ab\n",
      "asa\n"
     ]
    }
   ],
   "source": [
    "print(re.search('ab+', 'abbbbac').group())      #devuelve aparición de ab, seguido de cualquier cosa\n",
    "print(re.search('(ab)+', 'abababba').group())   #devuelve solo aparición de n ('ab') veces\n"
   ]
  },
  {
   "cell_type": "markdown",
   "metadata": {},
   "source": [
    "#### Nuevo"
   ]
  },
  {
   "cell_type": "code",
   "execution_count": 59,
   "metadata": {},
   "outputs": [
    {
     "name": "stdout",
     "output_type": "stream",
     "text": [
      "ab\n",
      "ab\n",
      "asa\n"
     ]
    }
   ],
   "source": [
    "print(re.search('ab(?=c)', 'abcccca').group())  #solamente devuelve si 'ab' es seguido de n ('c') (sin incluirlo)\n",
    "print(re.search('ab(?!c)', 'abdc').group())     #solamente devuelve si 'ab' NO es seguido de n ('c') (sin incluirlo)\n",
    "print(re.search('(?<=c)asa', 'casa').group())   #solamente devuelve si 'asa' precedido de ('c') (sin incluirlo)"
   ]
  },
  {
   "cell_type": "code",
   "execution_count": 60,
   "metadata": {},
   "outputs": [
    {
     "name": "stdout",
     "output_type": "stream",
     "text": [
      "['si', 'no']\n"
     ]
    }
   ],
   "source": [
    "print(re.findall('si|no', 'si llueve, no salgo'))"
   ]
  },
  {
   "cell_type": "code",
   "execution_count": 61,
   "metadata": {},
   "outputs": [
    {
     "name": "stdout",
     "output_type": "stream",
     "text": [
      "<re.Match object; span=(0, 8), match='bangbang'>\n"
     ]
    }
   ],
   "source": [
    "print(re.search(r'(bang)\\1', 'bangbangbangbangbangbangbangbang'))   #solamente devuelve si 'asa' precedido de ('c') (sin incluirlo)\n"
   ]
  },
  {
   "cell_type": "code",
   "execution_count": 65,
   "metadata": {},
   "outputs": [
    {
     "name": "stdout",
     "output_type": "stream",
     "text": [
      "abc-123-123\n"
     ]
    }
   ],
   "source": [
    "print(re.search(r'([a-z]{3})-([0-9]{3})-\\2', 'abc-123-123').group())"
   ]
  },
  {
   "cell_type": "markdown",
   "metadata": {},
   "source": [
    "\n",
    "#### Flags"
   ]
  },
  {
   "cell_type": "code",
   "execution_count": 67,
   "metadata": {},
   "outputs": [
    {
     "data": {
      "text/plain": [
       "<re.Match object; span=(0, 1), match='A'>"
      ]
     },
     "execution_count": 67,
     "metadata": {},
     "output_type": "execute_result"
    }
   ],
   "source": [
    "re.search('a', 'Alejo', re.IGNORECASE)"
   ]
  },
  {
   "cell_type": "code",
   "execution_count": 74,
   "metadata": {},
   "outputs": [
    {
     "data": {
      "text/plain": [
       "<re.Match object; span=(9, 10), match='A'>"
      ]
     },
     "execution_count": 74,
     "metadata": {},
     "output_type": "execute_result"
    }
   ],
   "source": [
    "re.search('^a', 'Misiones\\nArgentina\\n', re.IGNORECASE | re.MULTILINE)"
   ]
  },
  {
   "cell_type": "code",
   "execution_count": 80,
   "metadata": {},
   "outputs": [
    {
     "data": {
      "text/plain": [
       "<re.Match object; span=(0, 18), match='Misiones\\nArgentina'>"
      ]
     },
     "execution_count": 80,
     "metadata": {},
     "output_type": "execute_result"
    }
   ],
   "source": [
    "re.search(r'.+', 'Misiones\\nArgentina', re.DOTALL)  #ignora el salto de linea y sigue buscando"
   ]
  },
  {
   "cell_type": "code",
   "execution_count": 87,
   "metadata": {},
   "outputs": [
    {
     "data": {
      "text/plain": [
       "<re.Match object; span=(0, 6), match='100.10'>"
      ]
     },
     "execution_count": 87,
     "metadata": {},
     "output_type": "execute_result"
    }
   ],
   "source": [
    "re.search('''\n",
    "          \\d+   # n digitos\n",
    "          .     # 1 '.'\n",
    "          \\d+   # n dígitos\n",
    "          ''', '100.10', re.VERBOSE)    #permite hacer comentarios multilinea sin romper la compilacion"
   ]
  },
  {
   "cell_type": "markdown",
   "metadata": {},
   "source": [
    "#### group()"
   ]
  },
  {
   "cell_type": "code",
   "execution_count": 91,
   "metadata": {},
   "outputs": [
    {
     "name": "stdout",
     "output_type": "stream",
     "text": [
      "<re.Match object; span=(0, 13), match='123123____abc'>\n",
      "123123____abc\n"
     ]
    }
   ],
   "source": [
    "grupo = re.search('(123)+_+(abc)+', '123123____abc')\n",
    "print(grupo)\n",
    "print(grupo.group())"
   ]
  },
  {
   "cell_type": "code",
   "execution_count": 97,
   "metadata": {},
   "outputs": [
    {
     "name": "stdout",
     "output_type": "stream",
     "text": [
      "123\n",
      "abc\n",
      "('123', 'abc')\n"
     ]
    }
   ],
   "source": [
    "print(grupo.group(1))\n",
    "print(grupo.group(2))\n",
    "#print(grupo.group(3))   #no tiene\n",
    "print(grupo.groups())"
   ]
  }
 ],
 "metadata": {
  "kernelspec": {
   "display_name": "base",
   "language": "python",
   "name": "python3"
  },
  "language_info": {
   "codemirror_mode": {
    "name": "ipython",
    "version": 3
   },
   "file_extension": ".py",
   "mimetype": "text/x-python",
   "name": "python",
   "nbconvert_exporter": "python",
   "pygments_lexer": "ipython3",
   "version": "3.10.9"
  }
 },
 "nbformat": 4,
 "nbformat_minor": 2
}
