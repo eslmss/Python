{
 "cells": [
  {
   "cell_type": "markdown",
   "id": "00d08d93",
   "metadata": {},
   "source": [
    "# Evaluación unidad 1 - Python avanzado"
   ]
  },
  {
   "cell_type": "code",
   "execution_count": 4,
   "id": "8263978a",
   "metadata": {},
   "outputs": [],
   "source": [
    "import re"
   ]
  },
  {
   "cell_type": "markdown",
   "id": "58b671ac",
   "metadata": {},
   "source": [
    "El siguiente texto contiene datos de \n",
    "\n",
    "    - nombre, \n",
    "\n",
    "    - apellido, \n",
    "\n",
    "    - dirección postal, \n",
    "\n",
    "    - código postal, \n",
    "\n",
    "    - ciudad, \n",
    "\n",
    "    - país, \n",
    "\n",
    "    - teléfono y \n",
    "\n",
    "    - dirección de correo electrónico \n",
    "\n",
    "de varias personas."
   ]
  },
  {
   "cell_type": "code",
   "execution_count": 5,
   "id": "6ee7c626",
   "metadata": {},
   "outputs": [],
   "source": [
    "data = 'Oliver Garcia, 789 Oak Avenue, 54321, Madrid, España, +34 91-123-4567, oliver.garcia@example.com\\nBeatriz Ruiz, Carrer de Casanova 125, 08011, Barcelona, España, +34 936 789 012, beatriz.ruiz@email.com\\nNoah Andersson, 123 Oak Street, 67890, Estocolmo, Suecia, +46 8-123-4567, noah.andersson@example.com\\nCarmen Garcia, Rua dos Bacalhoeiros 10, 1100-071, Lisboa, Portugal, +351 21 567 8901, carmen.garcia@email.com\\nJulia Saez, Rua da Prata 76, 1100-420, Lisboa, Portugal, +351 21 901 2345, julia.saez@email.com\\nJavier Ruiz, Carrer de Balmes 90, 08008, Barcelona, España, +34 934 567 890, javier.ruiz@email.com\\nRaul Lopez, Rua Garrett 8, 1200-203, Lisboa, Portugal, +351 21 678 9012, raul.lopez@email.com\\nRuben Torres, Paseo del Prado 10, 28014, Madrid, España, +34 914 567 890, ruben.torres@email.com\\nSophia Liu, 456 High Street, 67890, Shanghai, China, +86 21-1234-5678, sophia.liu@example.com\\nCarla Jimenez, Rua Augusta 55, 1100-054, Lisboa, Portugal, +351 21 789 0123, carla.jimenez@email.com\\nEmma Smith, 123 Main Street, 12345, Chicago, Estados Unidos, +1 555-123-4567, emma.smith@example.com\\nDavid Fernandez, Rua das Flores 23, 1200-010, Lisboa, Portugal, +351 21 345 6789, david.fernandez@email.com\\nAmelia Müller, 321 Lindenstrasse, 12345, Berlín, Alemania, +49 30-1234-5678, amelia.muller@example.com\\nIsabel Jimenez, Carrer de la Ciutat de Granada 33, 08005, Barcelona, España, +34 931 234 567, isabel.jimenez@email.com\\nMaria Torres, Gran Vía 32, 28013, Madrid, España, +34 912 345 678, maria.torres@email.com\\nAdrian Sanchez, Carrer dels Tallers 23, 08001, Barcelona, España, +34 934 567 890, adrian.sanchez@email.com\\nLiam Johnson, 789 Main Road, 54321, Sydney, Australia, +61 2-1234-5678, liam.johnson@example.com\\nCarlos Ortiz, Rua de São Bento 201, 1200-821, Lisboa, Portugal, +351 21 345 6789, carlos.ortiz@email.com\\nMarta Gonzalez, Rua do Comércio 67, 1000-250, Lisboa, Portugal, +351 21 234 5678, marta.gonzalez@email.com\\nAna Perez, Calle Mayor 123, 28001, Madrid, España, +34 910 123 456, ana.perez@email.com\\nJuan Hernandez, Calle Alcalá 123, 28009, Madrid, España, +34 910 987 654, juan.hernandez@email.com\\nPaula Martin, Carrer del Mar 30, 08003, Barcelona, España, +34 933 456 789, paula.martin@email.com\\nSara Gomez, Gran Via 56, 28013, Madrid, España, +34 911 111 111, sara.gomez@email.com\\nSophie Dupont, 789 Rue Principale, 54321, París, Francia, +33 1-1234-5678, sophie.dupont@example.com\\nElena Moreno, 456 Maple Street, 12345, México, México, +52 55-1234-5678, elena.moreno@example.com\\nWilliam Martinez, 456 Main Street, 12345, Nueva York, Estados Unidos, +1 212-123-4567, william.martinez@example.com\\nLuisa Rodriguez, Carrer Valencia 45, 08001, Barcelona, España, +34 932 234 567, luisa.rodriguez@email.com\\nPablo Garcia, Plaza de España 1, 28008, Madrid, España, +34 913 456 789, pablo.garcia@email.com\\nAva Chen, 789 Elm Avenue, 54321, Taipei, Taiwán, +886 2-1234-5678, ava.chen@example.com'"
   ]
  },
  {
   "cell_type": "markdown",
   "id": "6e103a8f",
   "metadata": {},
   "source": [
    "### Ejercicio 1 \n",
    "\n",
    "Crear una función que reciba como parámetro el texto anterior y devuelva una lista. \n",
    "\n",
    "Cada elemento de esa lista debe ser otra lista con los campos de datos separados por comas de cada una de las personas.\n",
    "\n",
    "Por ejemplo:\n",
    "\n",
    "```python\n",
    "[ \n",
    "    ['Oliver Garcia', '789 Oak Avenue', '54321', 'Madrid', 'España', '+34 91-123-4567', 'oliver.garcia@example.com'], \n",
    "    ...\n",
    "]\n",
    "```"
   ]
  },
  {
   "cell_type": "code",
   "execution_count": 6,
   "id": "0f8fd5bb",
   "metadata": {},
   "outputs": [],
   "source": [
    "#print(data)"
   ]
  },
  {
   "cell_type": "code",
   "execution_count": 7,
   "id": "547653eb",
   "metadata": {},
   "outputs": [],
   "source": [
    "#re.findall(r'\\b[A-Za-z].*?\\.com\\b', data)\n",
    "    # \\b límite de palabra, asegura que las coincidencias comiencen con una letra\n",
    "    # [A-Za-z] coincide con cualquier letra (mayúscula o minúscula)\n",
    "    # .*? coincide con cualquier cantidad de caracteres (incluyendo letras, números, puntos, etc.), pero de manera no codiciosa, lo que significa que detendrá la coincidencia cuando encuentre '.com'.\n",
    "    # \\.com coincide con '.com' al final de la coincidencia.\n",
    "    # \\b límite de palabra, fin"
   ]
  },
  {
   "cell_type": "code",
   "execution_count": 8,
   "id": "e509eb23",
   "metadata": {},
   "outputs": [
    {
     "name": "stdout",
     "output_type": "stream",
     "text": [
      "[['Oliver Garcia', '789 Oak Avenue', '54321', 'Madrid', 'España', '+34 91-123-4567', 'oliver.garcia@example.com'], ['Beatriz Ruiz', 'Carrer de Casanova 125', '08011', 'Barcelona', 'España', '+34 936 789 012', 'beatriz.ruiz@email.com'], ['Noah Andersson', '123 Oak Street', '67890', 'Estocolmo', 'Suecia', '+46 8-123-4567', 'noah.andersson@example.com'], ['Carmen Garcia', 'Rua dos Bacalhoeiros 10', '1100-071', 'Lisboa', 'Portugal', '+351 21 567 8901', 'carmen.garcia@email.com'], ['Julia Saez', 'Rua da Prata 76', '1100-420', 'Lisboa', 'Portugal', '+351 21 901 2345', 'julia.saez@email.com'], ['Javier Ruiz', 'Carrer de Balmes 90', '08008', 'Barcelona', 'España', '+34 934 567 890', 'javier.ruiz@email.com'], ['Raul Lopez', 'Rua Garrett 8', '1200-203', 'Lisboa', 'Portugal', '+351 21 678 9012', 'raul.lopez@email.com'], ['Ruben Torres', 'Paseo del Prado 10', '28014', 'Madrid', 'España', '+34 914 567 890', 'ruben.torres@email.com'], ['Sophia Liu', '456 High Street', '67890', 'Shanghai', 'China', '+86 21-1234-5678', 'sophia.liu@example.com'], ['Carla Jimenez', 'Rua Augusta 55', '1100-054', 'Lisboa', 'Portugal', '+351 21 789 0123', 'carla.jimenez@email.com'], ['Emma Smith', '123 Main Street', '12345', 'Chicago', 'Estados Unidos', '+1 555-123-4567', 'emma.smith@example.com'], ['David Fernandez', 'Rua das Flores 23', '1200-010', 'Lisboa', 'Portugal', '+351 21 345 6789', 'david.fernandez@email.com'], ['Amelia Müller', '321 Lindenstrasse', '12345', 'Berlín', 'Alemania', '+49 30-1234-5678', 'amelia.muller@example.com'], ['Isabel Jimenez', 'Carrer de la Ciutat de Granada 33', '08005', 'Barcelona', 'España', '+34 931 234 567', 'isabel.jimenez@email.com'], ['Maria Torres', 'Gran Vía 32', '28013', 'Madrid', 'España', '+34 912 345 678', 'maria.torres@email.com'], ['Adrian Sanchez', 'Carrer dels Tallers 23', '08001', 'Barcelona', 'España', '+34 934 567 890', 'adrian.sanchez@email.com'], ['Liam Johnson', '789 Main Road', '54321', 'Sydney', 'Australia', '+61 2-1234-5678', 'liam.johnson@example.com'], ['Carlos Ortiz', 'Rua de São Bento 201', '1200-821', 'Lisboa', 'Portugal', '+351 21 345 6789', 'carlos.ortiz@email.com'], ['Marta Gonzalez', 'Rua do Comércio 67', '1000-250', 'Lisboa', 'Portugal', '+351 21 234 5678', 'marta.gonzalez@email.com'], ['Ana Perez', 'Calle Mayor 123', '28001', 'Madrid', 'España', '+34 910 123 456', 'ana.perez@email.com'], ['Juan Hernandez', 'Calle Alcalá 123', '28009', 'Madrid', 'España', '+34 910 987 654', 'juan.hernandez@email.com'], ['Paula Martin', 'Carrer del Mar 30', '08003', 'Barcelona', 'España', '+34 933 456 789', 'paula.martin@email.com'], ['Sara Gomez', 'Gran Via 56', '28013', 'Madrid', 'España', '+34 911 111 111', 'sara.gomez@email.com'], ['Sophie Dupont', '789 Rue Principale', '54321', 'París', 'Francia', '+33 1-1234-5678', 'sophie.dupont@example.com'], ['Elena Moreno', '456 Maple Street', '12345', 'México', 'México', '+52 55-1234-5678', 'elena.moreno@example.com'], ['William Martinez', '456 Main Street', '12345', 'Nueva York', 'Estados Unidos', '+1 212-123-4567', 'william.martinez@example.com'], ['Luisa Rodriguez', 'Carrer Valencia 45', '08001', 'Barcelona', 'España', '+34 932 234 567', 'luisa.rodriguez@email.com'], ['Pablo Garcia', 'Plaza de España 1', '28008', 'Madrid', 'España', '+34 913 456 789', 'pablo.garcia@email.com'], ['Ava Chen', '789 Elm Avenue', '54321', 'Taipei', 'Taiwán', '+886 2-1234-5678', 'ava.chen@example.com']]\n"
     ]
    }
   ],
   "source": [
    "def texto_a_datos(texto:str)->list:\n",
    "    data = re.findall(r'\\b[A-Za-z].*?\\.com\\b', texto)\n",
    "    return [fila.split(', ') for fila in data]\n",
    "\n",
    "lista_punto_2 = texto_a_datos(data)\n",
    "print(lista_punto_2)"
   ]
  },
  {
   "cell_type": "markdown",
   "id": "94e0abe5",
   "metadata": {},
   "source": [
    "### Ejercicio 2 \n",
    "\n",
    "Dada la lista anterior, crear una función que separe el primer elemento de cada sub lista (nombre completo) en dos (nombre y apellido) y reemplace el elemento original por los dos nuevos elementos.\n",
    "\n",
    "Por ejemplo: \n",
    "\n",
    "    'Oliver García' ---> 'Oliver', 'García'\n",
    "\n",
    "El resto de los elementos de cada lista debe quedar igual.\n",
    "\n",
    "Por ejemplo: \n",
    "\n",
    "```python\n",
    "['Oliver Garcia', '789 Oak Avenue', '54321', 'Madrid', 'España', '+34 91-123-4567', 'oliver.garcia@example.com'] \n",
    "```\n",
    "debe quedar:\n",
    "\n",
    "```python\n",
    "['Oliver', 'Garcia', '789 Oak Avenue', '54321', 'Madrid', 'España', '+34 91-123-4567', 'oliver.garcia@example.com']\n",
    "```"
   ]
  },
  {
   "cell_type": "code",
   "execution_count": 9,
   "id": "2b72de9f",
   "metadata": {},
   "outputs": [
    {
     "name": "stdout",
     "output_type": "stream",
     "text": [
      "[['Oliver', 'Garcia', '789 Oak Avenue', '54321', 'Madrid', 'España', '+34 91-123-4567', 'oliver.garcia@example.com'], ['Beatriz', 'Ruiz', 'Carrer de Casanova 125', '08011', 'Barcelona', 'España', '+34 936 789 012', 'beatriz.ruiz@email.com'], ['Noah', 'Andersson', '123 Oak Street', '67890', 'Estocolmo', 'Suecia', '+46 8-123-4567', 'noah.andersson@example.com'], ['Carmen', 'Garcia', 'Rua dos Bacalhoeiros 10', '1100-071', 'Lisboa', 'Portugal', '+351 21 567 8901', 'carmen.garcia@email.com'], ['Julia', 'Saez', 'Rua da Prata 76', '1100-420', 'Lisboa', 'Portugal', '+351 21 901 2345', 'julia.saez@email.com'], ['Javier', 'Ruiz', 'Carrer de Balmes 90', '08008', 'Barcelona', 'España', '+34 934 567 890', 'javier.ruiz@email.com'], ['Raul', 'Lopez', 'Rua Garrett 8', '1200-203', 'Lisboa', 'Portugal', '+351 21 678 9012', 'raul.lopez@email.com'], ['Ruben', 'Torres', 'Paseo del Prado 10', '28014', 'Madrid', 'España', '+34 914 567 890', 'ruben.torres@email.com'], ['Sophia', 'Liu', '456 High Street', '67890', 'Shanghai', 'China', '+86 21-1234-5678', 'sophia.liu@example.com'], ['Carla', 'Jimenez', 'Rua Augusta 55', '1100-054', 'Lisboa', 'Portugal', '+351 21 789 0123', 'carla.jimenez@email.com'], ['Emma', 'Smith', '123 Main Street', '12345', 'Chicago', 'Estados Unidos', '+1 555-123-4567', 'emma.smith@example.com'], ['David', 'Fernandez', 'Rua das Flores 23', '1200-010', 'Lisboa', 'Portugal', '+351 21 345 6789', 'david.fernandez@email.com'], ['Amelia', 'Müller', '321 Lindenstrasse', '12345', 'Berlín', 'Alemania', '+49 30-1234-5678', 'amelia.muller@example.com'], ['Isabel', 'Jimenez', 'Carrer de la Ciutat de Granada 33', '08005', 'Barcelona', 'España', '+34 931 234 567', 'isabel.jimenez@email.com'], ['Maria', 'Torres', 'Gran Vía 32', '28013', 'Madrid', 'España', '+34 912 345 678', 'maria.torres@email.com'], ['Adrian', 'Sanchez', 'Carrer dels Tallers 23', '08001', 'Barcelona', 'España', '+34 934 567 890', 'adrian.sanchez@email.com'], ['Liam', 'Johnson', '789 Main Road', '54321', 'Sydney', 'Australia', '+61 2-1234-5678', 'liam.johnson@example.com'], ['Carlos', 'Ortiz', 'Rua de São Bento 201', '1200-821', 'Lisboa', 'Portugal', '+351 21 345 6789', 'carlos.ortiz@email.com'], ['Marta', 'Gonzalez', 'Rua do Comércio 67', '1000-250', 'Lisboa', 'Portugal', '+351 21 234 5678', 'marta.gonzalez@email.com'], ['Ana', 'Perez', 'Calle Mayor 123', '28001', 'Madrid', 'España', '+34 910 123 456', 'ana.perez@email.com'], ['Juan', 'Hernandez', 'Calle Alcalá 123', '28009', 'Madrid', 'España', '+34 910 987 654', 'juan.hernandez@email.com'], ['Paula', 'Martin', 'Carrer del Mar 30', '08003', 'Barcelona', 'España', '+34 933 456 789', 'paula.martin@email.com'], ['Sara', 'Gomez', 'Gran Via 56', '28013', 'Madrid', 'España', '+34 911 111 111', 'sara.gomez@email.com'], ['Sophie', 'Dupont', '789 Rue Principale', '54321', 'París', 'Francia', '+33 1-1234-5678', 'sophie.dupont@example.com'], ['Elena', 'Moreno', '456 Maple Street', '12345', 'México', 'México', '+52 55-1234-5678', 'elena.moreno@example.com'], ['William', 'Martinez', '456 Main Street', '12345', 'Nueva York', 'Estados Unidos', '+1 212-123-4567', 'william.martinez@example.com'], ['Luisa', 'Rodriguez', 'Carrer Valencia 45', '08001', 'Barcelona', 'España', '+34 932 234 567', 'luisa.rodriguez@email.com'], ['Pablo', 'Garcia', 'Plaza de España 1', '28008', 'Madrid', 'España', '+34 913 456 789', 'pablo.garcia@email.com'], ['Ava', 'Chen', '789 Elm Avenue', '54321', 'Taipei', 'Taiwán', '+886 2-1234-5678', 'ava.chen@example.com']]\n"
     ]
    }
   ],
   "source": [
    "def separar_nombre_apellido(lista:list)->list:\n",
    "    for fila in lista:\n",
    "        split_nombre_apellido = fila[0].split(' ')\n",
    "        fila[0] = split_nombre_apellido[0]\n",
    "        fila.insert(1, split_nombre_apellido[1])\n",
    "    return lista\n",
    "\n",
    "lista_punto_3 = separar_nombre_apellido(lista_punto_2)\n",
    "print(lista_punto_3)"
   ]
  },
  {
   "cell_type": "markdown",
   "id": "827d7a02",
   "metadata": {},
   "source": [
    "### Ejericicio 3 \n",
    "\n",
    "Crear una función que reciba por parámetro la **lista de datos de personas** creada en el ejercicio 2 y una **lista de claves** y devuelva una lista donde cada elemento sea un **diccionario**. \n",
    "\n",
    "Las **claves** de cada diccionario deben ser las de la lista 'claves' que se encuentra a continuación. \n",
    "\n",
    "```python\n",
    "claves = ['nombre', 'apellido', 'direccion_postal', 'codigo_postal', 'ciudad', 'pais', 'telefono', 'mail']\n",
    "```\n",
    "\n",
    "Los **valores** correspondientes a cada clave deben ser los datos de cada usuario. \n",
    "\n",
    "Por ejemplo:\n",
    "\n",
    "```python\n",
    "[  \n",
    "{'nombre': 'Oliver',  \n",
    "  'apellido': 'Garcia',  \n",
    "  'direccion_postal': '789 Oak Avenue',  \n",
    "  'codigo_postal': '54321',  \n",
    "  'ciudad': 'Madrid',  \n",
    "  'pais': 'España',  \n",
    "  'telefono': '+34 91-123-4567',  \n",
    "  'mail': 'oliver.garcia@example.com'},  \n",
    "  ...  \n",
    "]\n",
    "```\n",
    "\n",
    "La lista debe contener tantos diccionarios como usuarios."
   ]
  },
  {
   "cell_type": "code",
   "execution_count": 10,
   "id": "4d9bd0b8",
   "metadata": {},
   "outputs": [],
   "source": [
    "claves = ['nombre', 'apellido', 'direccion_postal', 'codigo_postal', 'ciudad', 'pais', 'telefono', 'mail']"
   ]
  },
  {
   "cell_type": "code",
   "execution_count": 11,
   "id": "93a24284",
   "metadata": {},
   "outputs": [
    {
     "data": {
      "text/plain": [
       "[{'nombre': 'Oliver',\n",
       "  'apellido': 'Garcia',\n",
       "  'direccion_postal': '789 Oak Avenue',\n",
       "  'codigo_postal': '54321',\n",
       "  'ciudad': 'Madrid',\n",
       "  'pais': 'España',\n",
       "  'telefono': '+34 91-123-4567',\n",
       "  'mail': 'oliver.garcia@example.com'},\n",
       " {'nombre': 'Beatriz',\n",
       "  'apellido': 'Ruiz',\n",
       "  'direccion_postal': 'Carrer de Casanova 125',\n",
       "  'codigo_postal': '08011',\n",
       "  'ciudad': 'Barcelona',\n",
       "  'pais': 'España',\n",
       "  'telefono': '+34 936 789 012',\n",
       "  'mail': 'beatriz.ruiz@email.com'},\n",
       " {'nombre': 'Noah',\n",
       "  'apellido': 'Andersson',\n",
       "  'direccion_postal': '123 Oak Street',\n",
       "  'codigo_postal': '67890',\n",
       "  'ciudad': 'Estocolmo',\n",
       "  'pais': 'Suecia',\n",
       "  'telefono': '+46 8-123-4567',\n",
       "  'mail': 'noah.andersson@example.com'},\n",
       " {'nombre': 'Carmen',\n",
       "  'apellido': 'Garcia',\n",
       "  'direccion_postal': 'Rua dos Bacalhoeiros 10',\n",
       "  'codigo_postal': '1100-071',\n",
       "  'ciudad': 'Lisboa',\n",
       "  'pais': 'Portugal',\n",
       "  'telefono': '+351 21 567 8901',\n",
       "  'mail': 'carmen.garcia@email.com'},\n",
       " {'nombre': 'Julia',\n",
       "  'apellido': 'Saez',\n",
       "  'direccion_postal': 'Rua da Prata 76',\n",
       "  'codigo_postal': '1100-420',\n",
       "  'ciudad': 'Lisboa',\n",
       "  'pais': 'Portugal',\n",
       "  'telefono': '+351 21 901 2345',\n",
       "  'mail': 'julia.saez@email.com'},\n",
       " {'nombre': 'Javier',\n",
       "  'apellido': 'Ruiz',\n",
       "  'direccion_postal': 'Carrer de Balmes 90',\n",
       "  'codigo_postal': '08008',\n",
       "  'ciudad': 'Barcelona',\n",
       "  'pais': 'España',\n",
       "  'telefono': '+34 934 567 890',\n",
       "  'mail': 'javier.ruiz@email.com'},\n",
       " {'nombre': 'Raul',\n",
       "  'apellido': 'Lopez',\n",
       "  'direccion_postal': 'Rua Garrett 8',\n",
       "  'codigo_postal': '1200-203',\n",
       "  'ciudad': 'Lisboa',\n",
       "  'pais': 'Portugal',\n",
       "  'telefono': '+351 21 678 9012',\n",
       "  'mail': 'raul.lopez@email.com'},\n",
       " {'nombre': 'Ruben',\n",
       "  'apellido': 'Torres',\n",
       "  'direccion_postal': 'Paseo del Prado 10',\n",
       "  'codigo_postal': '28014',\n",
       "  'ciudad': 'Madrid',\n",
       "  'pais': 'España',\n",
       "  'telefono': '+34 914 567 890',\n",
       "  'mail': 'ruben.torres@email.com'},\n",
       " {'nombre': 'Sophia',\n",
       "  'apellido': 'Liu',\n",
       "  'direccion_postal': '456 High Street',\n",
       "  'codigo_postal': '67890',\n",
       "  'ciudad': 'Shanghai',\n",
       "  'pais': 'China',\n",
       "  'telefono': '+86 21-1234-5678',\n",
       "  'mail': 'sophia.liu@example.com'},\n",
       " {'nombre': 'Carla',\n",
       "  'apellido': 'Jimenez',\n",
       "  'direccion_postal': 'Rua Augusta 55',\n",
       "  'codigo_postal': '1100-054',\n",
       "  'ciudad': 'Lisboa',\n",
       "  'pais': 'Portugal',\n",
       "  'telefono': '+351 21 789 0123',\n",
       "  'mail': 'carla.jimenez@email.com'},\n",
       " {'nombre': 'Emma',\n",
       "  'apellido': 'Smith',\n",
       "  'direccion_postal': '123 Main Street',\n",
       "  'codigo_postal': '12345',\n",
       "  'ciudad': 'Chicago',\n",
       "  'pais': 'Estados Unidos',\n",
       "  'telefono': '+1 555-123-4567',\n",
       "  'mail': 'emma.smith@example.com'},\n",
       " {'nombre': 'David',\n",
       "  'apellido': 'Fernandez',\n",
       "  'direccion_postal': 'Rua das Flores 23',\n",
       "  'codigo_postal': '1200-010',\n",
       "  'ciudad': 'Lisboa',\n",
       "  'pais': 'Portugal',\n",
       "  'telefono': '+351 21 345 6789',\n",
       "  'mail': 'david.fernandez@email.com'},\n",
       " {'nombre': 'Amelia',\n",
       "  'apellido': 'Müller',\n",
       "  'direccion_postal': '321 Lindenstrasse',\n",
       "  'codigo_postal': '12345',\n",
       "  'ciudad': 'Berlín',\n",
       "  'pais': 'Alemania',\n",
       "  'telefono': '+49 30-1234-5678',\n",
       "  'mail': 'amelia.muller@example.com'},\n",
       " {'nombre': 'Isabel',\n",
       "  'apellido': 'Jimenez',\n",
       "  'direccion_postal': 'Carrer de la Ciutat de Granada 33',\n",
       "  'codigo_postal': '08005',\n",
       "  'ciudad': 'Barcelona',\n",
       "  'pais': 'España',\n",
       "  'telefono': '+34 931 234 567',\n",
       "  'mail': 'isabel.jimenez@email.com'},\n",
       " {'nombre': 'Maria',\n",
       "  'apellido': 'Torres',\n",
       "  'direccion_postal': 'Gran Vía 32',\n",
       "  'codigo_postal': '28013',\n",
       "  'ciudad': 'Madrid',\n",
       "  'pais': 'España',\n",
       "  'telefono': '+34 912 345 678',\n",
       "  'mail': 'maria.torres@email.com'},\n",
       " {'nombre': 'Adrian',\n",
       "  'apellido': 'Sanchez',\n",
       "  'direccion_postal': 'Carrer dels Tallers 23',\n",
       "  'codigo_postal': '08001',\n",
       "  'ciudad': 'Barcelona',\n",
       "  'pais': 'España',\n",
       "  'telefono': '+34 934 567 890',\n",
       "  'mail': 'adrian.sanchez@email.com'},\n",
       " {'nombre': 'Liam',\n",
       "  'apellido': 'Johnson',\n",
       "  'direccion_postal': '789 Main Road',\n",
       "  'codigo_postal': '54321',\n",
       "  'ciudad': 'Sydney',\n",
       "  'pais': 'Australia',\n",
       "  'telefono': '+61 2-1234-5678',\n",
       "  'mail': 'liam.johnson@example.com'},\n",
       " {'nombre': 'Carlos',\n",
       "  'apellido': 'Ortiz',\n",
       "  'direccion_postal': 'Rua de São Bento 201',\n",
       "  'codigo_postal': '1200-821',\n",
       "  'ciudad': 'Lisboa',\n",
       "  'pais': 'Portugal',\n",
       "  'telefono': '+351 21 345 6789',\n",
       "  'mail': 'carlos.ortiz@email.com'},\n",
       " {'nombre': 'Marta',\n",
       "  'apellido': 'Gonzalez',\n",
       "  'direccion_postal': 'Rua do Comércio 67',\n",
       "  'codigo_postal': '1000-250',\n",
       "  'ciudad': 'Lisboa',\n",
       "  'pais': 'Portugal',\n",
       "  'telefono': '+351 21 234 5678',\n",
       "  'mail': 'marta.gonzalez@email.com'},\n",
       " {'nombre': 'Ana',\n",
       "  'apellido': 'Perez',\n",
       "  'direccion_postal': 'Calle Mayor 123',\n",
       "  'codigo_postal': '28001',\n",
       "  'ciudad': 'Madrid',\n",
       "  'pais': 'España',\n",
       "  'telefono': '+34 910 123 456',\n",
       "  'mail': 'ana.perez@email.com'},\n",
       " {'nombre': 'Juan',\n",
       "  'apellido': 'Hernandez',\n",
       "  'direccion_postal': 'Calle Alcalá 123',\n",
       "  'codigo_postal': '28009',\n",
       "  'ciudad': 'Madrid',\n",
       "  'pais': 'España',\n",
       "  'telefono': '+34 910 987 654',\n",
       "  'mail': 'juan.hernandez@email.com'},\n",
       " {'nombre': 'Paula',\n",
       "  'apellido': 'Martin',\n",
       "  'direccion_postal': 'Carrer del Mar 30',\n",
       "  'codigo_postal': '08003',\n",
       "  'ciudad': 'Barcelona',\n",
       "  'pais': 'España',\n",
       "  'telefono': '+34 933 456 789',\n",
       "  'mail': 'paula.martin@email.com'},\n",
       " {'nombre': 'Sara',\n",
       "  'apellido': 'Gomez',\n",
       "  'direccion_postal': 'Gran Via 56',\n",
       "  'codigo_postal': '28013',\n",
       "  'ciudad': 'Madrid',\n",
       "  'pais': 'España',\n",
       "  'telefono': '+34 911 111 111',\n",
       "  'mail': 'sara.gomez@email.com'},\n",
       " {'nombre': 'Sophie',\n",
       "  'apellido': 'Dupont',\n",
       "  'direccion_postal': '789 Rue Principale',\n",
       "  'codigo_postal': '54321',\n",
       "  'ciudad': 'París',\n",
       "  'pais': 'Francia',\n",
       "  'telefono': '+33 1-1234-5678',\n",
       "  'mail': 'sophie.dupont@example.com'},\n",
       " {'nombre': 'Elena',\n",
       "  'apellido': 'Moreno',\n",
       "  'direccion_postal': '456 Maple Street',\n",
       "  'codigo_postal': '12345',\n",
       "  'ciudad': 'México',\n",
       "  'pais': 'México',\n",
       "  'telefono': '+52 55-1234-5678',\n",
       "  'mail': 'elena.moreno@example.com'},\n",
       " {'nombre': 'William',\n",
       "  'apellido': 'Martinez',\n",
       "  'direccion_postal': '456 Main Street',\n",
       "  'codigo_postal': '12345',\n",
       "  'ciudad': 'Nueva York',\n",
       "  'pais': 'Estados Unidos',\n",
       "  'telefono': '+1 212-123-4567',\n",
       "  'mail': 'william.martinez@example.com'},\n",
       " {'nombre': 'Luisa',\n",
       "  'apellido': 'Rodriguez',\n",
       "  'direccion_postal': 'Carrer Valencia 45',\n",
       "  'codigo_postal': '08001',\n",
       "  'ciudad': 'Barcelona',\n",
       "  'pais': 'España',\n",
       "  'telefono': '+34 932 234 567',\n",
       "  'mail': 'luisa.rodriguez@email.com'},\n",
       " {'nombre': 'Pablo',\n",
       "  'apellido': 'Garcia',\n",
       "  'direccion_postal': 'Plaza de España 1',\n",
       "  'codigo_postal': '28008',\n",
       "  'ciudad': 'Madrid',\n",
       "  'pais': 'España',\n",
       "  'telefono': '+34 913 456 789',\n",
       "  'mail': 'pablo.garcia@email.com'},\n",
       " {'nombre': 'Ava',\n",
       "  'apellido': 'Chen',\n",
       "  'direccion_postal': '789 Elm Avenue',\n",
       "  'codigo_postal': '54321',\n",
       "  'ciudad': 'Taipei',\n",
       "  'pais': 'Taiwán',\n",
       "  'telefono': '+886 2-1234-5678',\n",
       "  'mail': 'ava.chen@example.com'}]"
      ]
     },
     "execution_count": 11,
     "metadata": {},
     "output_type": "execute_result"
    }
   ],
   "source": [
    "def lista_a_diccionario(lista:list)->list:\n",
    "    lista_diccionarios = []\n",
    "    for fila in lista:\n",
    "        lista_diccionarios.append(dict(zip(claves, fila)))\n",
    "    return lista_diccionarios\n",
    "\n",
    "lista_punto_4 = lista_a_diccionario(lista_punto_3)\n",
    "\n",
    "lista_punto_4"
   ]
  },
  {
   "cell_type": "markdown",
   "id": "22bc6388",
   "metadata": {},
   "source": [
    "### Ejercicio 4\n",
    "\n",
    "Crear una función que reciba como parámetro el diccionario anterior y devuelva una lista **sin repeticiones** de los países a los que pertenecen esas personas. Usar **list o set comprehensions**."
   ]
  },
  {
   "cell_type": "code",
   "execution_count": 12,
   "id": "df1b5d3b",
   "metadata": {},
   "outputs": [],
   "source": [
    "#lista_punto_4"
   ]
  },
  {
   "cell_type": "code",
   "execution_count": 13,
   "id": "6404637f",
   "metadata": {},
   "outputs": [
    {
     "data": {
      "text/plain": [
       "['China',\n",
       " 'Australia',\n",
       " 'Alemania',\n",
       " 'Taiwán',\n",
       " 'Portugal',\n",
       " 'Suecia',\n",
       " 'Francia',\n",
       " 'México',\n",
       " 'España',\n",
       " 'Estados Unidos']"
      ]
     },
     "execution_count": 13,
     "metadata": {},
     "output_type": "execute_result"
    }
   ],
   "source": [
    "def paises_distintos(lista:list)->list:\n",
    "    paises_sin_repetir = list({diccionario['pais'] for diccionario in lista})\n",
    "    return paises_sin_repetir\n",
    "\n",
    "paises_distintos(lista_punto_4)\n"
   ]
  },
  {
   "cell_type": "markdown",
   "id": "ac0402a3",
   "metadata": {},
   "source": [
    "### Ejercicio 5 \n",
    "\n",
    "Utilizando **list comprehensions** y **expresiones regulares**, crear una lista de números de teléfono sin guiones, espacios en blanco o cualquier otro caracter no numérico (por ejemplo, el signo '+').\n",
    "\n",
    "Por ejemplo, \n",
    "\n",
    "```python\n",
    "'+33 1-1234-5678' \n",
    "```\n",
    "\n",
    "debe quedar \n",
    "\n",
    "```python\n",
    "'33112345678'\n",
    "```"
   ]
  },
  {
   "cell_type": "code",
   "execution_count": 14,
   "id": "e26a5d5f",
   "metadata": {},
   "outputs": [],
   "source": [
    "#[re.sub(r'\\D', '' ,diccionario['telefono']) for diccionario in lista_punto_4]"
   ]
  },
  {
   "cell_type": "code",
   "execution_count": 15,
   "id": "63656b6a",
   "metadata": {},
   "outputs": [
    {
     "data": {
      "text/plain": [
       "['34911234567',\n",
       " '34936789012',\n",
       " '4681234567',\n",
       " '351215678901',\n",
       " '351219012345',\n",
       " '34934567890',\n",
       " '351216789012',\n",
       " '34914567890',\n",
       " '862112345678',\n",
       " '351217890123',\n",
       " '15551234567',\n",
       " '351213456789',\n",
       " '493012345678',\n",
       " '34931234567',\n",
       " '34912345678',\n",
       " '34934567890',\n",
       " '61212345678',\n",
       " '351213456789',\n",
       " '351212345678',\n",
       " '34910123456',\n",
       " '34910987654',\n",
       " '34933456789',\n",
       " '34911111111',\n",
       " '33112345678',\n",
       " '525512345678',\n",
       " '12121234567',\n",
       " '34932234567',\n",
       " '34913456789',\n",
       " '886212345678']"
      ]
     },
     "execution_count": 15,
     "metadata": {},
     "output_type": "execute_result"
    }
   ],
   "source": [
    "def telefonos_simplificados(lista:list)->list:\n",
    "    return [re.sub(r'\\D', '' ,diccionario['telefono']) for diccionario in lista]\n",
    "    \n",
    "telefonos_simplificados(lista_punto_4)"
   ]
  },
  {
   "cell_type": "markdown",
   "id": "d3acbd7f",
   "metadata": {},
   "source": [
    "### Ejercicio 6\n",
    "\n",
    "Utilizando **list comprehensions** y **expresiones regulares**, crear una lista con los nombres y apellidos de aquellos usuarios que tengan una cuenta de mail del tipo `@email.com`\n",
    "\n",
    "Resultado esperado:\n",
    "\n",
    "```python\n",
    "['Beatriz Ruiz', 'Carmen Garcia', 'Julia Saez', 'Javier Ruiz', 'Raul Lopez', 'Ruben Torres', 'Carla Jimenez', 'David Fernandez', 'Isabel Jimenez', 'Maria Torres', 'Adrian Sanchez', 'Carlos Ortiz', 'Marta Gonzalez', 'Ana Perez', 'Juan Hernandez', 'Paula Martin', 'Sara Gomez', 'Luisa Rodriguez', 'Pablo Garcia']\n",
    "```"
   ]
  },
  {
   "cell_type": "code",
   "execution_count": 16,
   "id": "cf716415",
   "metadata": {},
   "outputs": [],
   "source": [
    "#[(diccionario['nombre'] + ' ' + diccionario['apellido'] + ' / ' + diccionario['mail']) for diccionario in lista_punto_4 if re.findall(r'@email\\.com$', diccionario['mail'])] "
   ]
  },
  {
   "cell_type": "code",
   "execution_count": 17,
   "id": "639be5f4",
   "metadata": {},
   "outputs": [
    {
     "data": {
      "text/plain": [
       "['Beatriz Ruiz',\n",
       " 'Carmen Garcia',\n",
       " 'Julia Saez',\n",
       " 'Javier Ruiz',\n",
       " 'Raul Lopez',\n",
       " 'Ruben Torres',\n",
       " 'Carla Jimenez',\n",
       " 'David Fernandez',\n",
       " 'Isabel Jimenez',\n",
       " 'Maria Torres',\n",
       " 'Adrian Sanchez',\n",
       " 'Carlos Ortiz',\n",
       " 'Marta Gonzalez',\n",
       " 'Ana Perez',\n",
       " 'Juan Hernandez',\n",
       " 'Paula Martin',\n",
       " 'Sara Gomez',\n",
       " 'Luisa Rodriguez',\n",
       " 'Pablo Garcia']"
      ]
     },
     "execution_count": 17,
     "metadata": {},
     "output_type": "execute_result"
    }
   ],
   "source": [
    "def lista_nombres_con_emailcom(lista:list)->list:\n",
    "    return [(diccionario['nombre'] + ' ' +diccionario['apellido']) for diccionario in lista if re.findall(r'@email\\.com$', diccionario['mail'])]\n",
    "    \n",
    "lista_nombres_con_emailcom(lista_punto_4)"
   ]
  }
 ],
 "metadata": {
  "kernelspec": {
   "display_name": "Python 3 (ipykernel)",
   "language": "python",
   "name": "python3"
  },
  "language_info": {
   "codemirror_mode": {
    "name": "ipython",
    "version": 3
   },
   "file_extension": ".py",
   "mimetype": "text/x-python",
   "name": "python",
   "nbconvert_exporter": "python",
   "pygments_lexer": "ipython3",
   "version": "3.12.0"
  }
 },
 "nbformat": 4,
 "nbformat_minor": 5
}
