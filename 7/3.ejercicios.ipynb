{
 "cells": [
  {
   "cell_type": "markdown",
   "metadata": {},
   "source": [
    "##### 1- Crear una clase llamada \"Calculadora\" que tenga como atributos dos números. La clase debe tener cuatro métodos: \"suma\", \"resta\", \"multiplicación\" y \"división\". Cada uno de los cuales debe realizar la operación y devolver el resultado. Luego, crea una instancia de la clase con dos números diferentes y llama a los cuatro métodos para imprimir los resultados. (incluir manejo de excepciones)"
   ]
  },
  {
   "cell_type": "code",
   "execution_count": 18,
   "metadata": {},
   "outputs": [
    {
     "name": "stderr",
     "output_type": "stream",
     "text": [
      "<>:1: SyntaxWarning: \"is\" with a literal. Did you mean \"==\"?\n",
      "<>:1: SyntaxWarning: \"is\" with a literal. Did you mean \"==\"?\n",
      "C:\\Users\\sms\\AppData\\Local\\Temp\\ipykernel_2352\\3914889992.py:1: SyntaxWarning: \"is\" with a literal. Did you mean \"==\"?\n",
      "  (5,4) is (int)\n"
     ]
    },
    {
     "data": {
      "text/plain": [
       "False"
      ]
     },
     "execution_count": 18,
     "metadata": {},
     "output_type": "execute_result"
    }
   ],
   "source": [
    "(5,4) is (int,float)"
   ]
  },
  {
   "cell_type": "code",
   "execution_count": 19,
   "metadata": {},
   "outputs": [],
   "source": [
    "class Calculadora:\n",
    "    '''\n",
    "    Clase Calculadora: tiene 2 atributos numericos y 4 metodos para realizar calculos entre dichos atributos\n",
    "    '''\n",
    "    def __init__(self, num1: float, num2: float): # Método Constructor. Necesario para manipular los ingresos        \n",
    "        if (num1 is None or num2 is None) or (not isinstance(num1, (int, float)) or not isinstance(num2, (int, float))):# manejo de errores      #estas validaciones podrian hacerse afuera, en una funcion y mas porque son siempre iguales\n",
    "            raise ValueError(\"Los numeros ingresados deben ser numeros\")\n",
    "        self.num1 = num1\n",
    "        self.num2 = num2\n",
    "        \n",
    "    def suma(self)->float:\n",
    "        return self.num1 + self.num2\n",
    "    \n",
    "    def resta(self)->float:\n",
    "        if(self.num1 > self.num2):\n",
    "            return self.num1 - self.num2\n",
    "        else:\n",
    "            return self.num2 - self.num1 \n",
    "    \n",
    "    def producto(self)->float:\n",
    "        return self.num1 * self.num2\n",
    "    \n",
    "    def division(self)->float:\n",
    "        return self.num1 / self.num2"
   ]
  },
  {
   "cell_type": "code",
   "execution_count": 28,
   "metadata": {},
   "outputs": [
    {
     "name": "stdout",
     "output_type": "stream",
     "text": [
      "9\n",
      "1\n",
      "20\n",
      "1.25\n"
     ]
    }
   ],
   "source": [
    "calculos = Calculadora(5,4)\n",
    "print(calculos.suma())\n",
    "print(calculos.resta())\n",
    "print(calculos.producto())\n",
    "print(calculos.division())\n"
   ]
  },
  {
   "cell_type": "markdown",
   "metadata": {},
   "source": [
    "##### 2- Crea una clase \"Persona\" que tenga como atributo el nombre y la edad. La clase debe tener un método llamado \"Presentar\" que imprima en pantalla los atributos mencionados. Luego, crea dos instancias de la clase y llama al método \"Presentar\" para ambas. (incluir manejo de excepciones)"
   ]
  },
  {
   "cell_type": "code",
   "execution_count": 29,
   "metadata": {},
   "outputs": [],
   "source": [
    "class Persona():\n",
    "    def __init__(self, nombre:str, edad:int):\n",
    "        if (nombre is None) or (not isinstance(nombre, str)):# manejo de errores      #estas validaciones podrian hacerse afuera, en una funcion y mas porque son siempre iguales\n",
    "            raise ValueError(\"El nombre debe ser una palabra\")\n",
    "        self.nombre = nombre\n",
    "        if (edad is None) or (not isinstance(edad, (int, float))):# manejo de errores      #estas validaciones podrian hacerse afuera, en una funcion y mas porque son siempre iguales\n",
    "            raise ValueError(\"La edad debe ser un numero\")\n",
    "        self.edad = edad\n",
    "        \n",
    "    def presentar(self)->str:\n",
    "        print(f\"Hola, me llamo {self.nombre} y tengo {self.edad} años\")"
   ]
  },
  {
   "cell_type": "code",
   "execution_count": 30,
   "metadata": {},
   "outputs": [
    {
     "name": "stdout",
     "output_type": "stream",
     "text": [
      "Hola, me llamo Elias y tengo 24 años\n",
      "Hola, me llamo Jorge y tengo 60 años\n"
     ]
    }
   ],
   "source": [
    "persona1 = Persona(\"Elias\", 24)\n",
    "persona2 = Persona(\"Jorge\", 60)\n",
    "persona1.presentar()\n",
    "persona2.presentar()"
   ]
  },
  {
   "cell_type": "markdown",
   "metadata": {},
   "source": [
    "##### 3- Crea una superclase llamada \"Animal\" que tenga como atributos el nombre y edad. Luego, crear dos subclases: \"Pero\" y \"Gato\". Cada una de estas subclases debe tener un método llamado \"sonido\" que imprima en pantalla el sonido que hace cada animal. Luego, crea una instancia de cada subclase y llama al método \"sonido\" para ambas."
   ]
  },
  {
   "cell_type": "code",
   "execution_count": 32,
   "metadata": {},
   "outputs": [],
   "source": [
    "class Animal:\n",
    "    def __init__(self, nombre, edad):\n",
    "        if (nombre is None) or (not isinstance(nombre, str)):# manejo de errores      #estas validaciones podrian hacerse afuera, en una funcion y mas porque son siempre iguales\n",
    "            raise ValueError(\"El nombre debe ser una palabra\")\n",
    "        self.nombre = nombre\n",
    "        \n",
    "        if (edad is None) or (not isinstance(edad, (int, float))):# manejo de errores      #estas validaciones podrian hacerse afuera, en una funcion y mas porque son siempre iguales\n",
    "            raise ValueError(\"La edad debe ser un numero\")\n",
    "        self.edad = edad\n",
    "\n",
    "class Perro(Animal):\n",
    "    def __init__(self, nombre, edad):\n",
    "        super().__init__(nombre, edad)\n",
    "    \n",
    "    def sonido(self):\n",
    "        print(\"guau\")\n",
    "    \n",
    "class Gato(Animal):\n",
    "    def __init__(self, nombre, edad):\n",
    "        super().__init__(nombre, edad)\n",
    "    \n",
    "    def sonido(self):\n",
    "        print(\"miau\")"
   ]
  },
  {
   "cell_type": "code",
   "execution_count": 34,
   "metadata": {},
   "outputs": [
    {
     "name": "stdout",
     "output_type": "stream",
     "text": [
      "guau\n",
      "miau\n"
     ]
    }
   ],
   "source": [
    "dog = Perro(\"Kalo\", 12)\n",
    "cat = Gato(\"Aury\", 2)\n",
    "dog.sonido()\n",
    "cat.sonido()"
   ]
  }
 ],
 "metadata": {
  "kernelspec": {
   "display_name": "base",
   "language": "python",
   "name": "python3"
  },
  "language_info": {
   "codemirror_mode": {
    "name": "ipython",
    "version": 3
   },
   "file_extension": ".py",
   "mimetype": "text/x-python",
   "name": "python",
   "nbconvert_exporter": "python",
   "pygments_lexer": "ipython3",
   "version": "3.10.9"
  }
 },
 "nbformat": 4,
 "nbformat_minor": 2
}
