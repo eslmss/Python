{
 "cells": [
  {
   "cell_type": "markdown",
   "metadata": {},
   "source": [
    "### Class Mesa con buenas prácticas:"
   ]
  },
  {
   "cell_type": "code",
   "execution_count": 8,
   "metadata": {},
   "outputs": [],
   "source": [
    "class Mesa:\n",
    "    '''\n",
    "    Breve Descripción de la Clase\n",
    "    '''\n",
    "    def __init__(self, largo:float, ancho:float, altura:float): # Método Constructor. Necesario para manipular los ingresos\n",
    "        \n",
    "        if largo is None or (not isinstance(largo, (int,float)) or largo <=0): # manejo de errores      #estas validaciones podrian hacerse afuera, en una funcion y mas porque son siempre iguales\n",
    "            raise ValueError(\"El largo de la mesa debe ser un numero positivo\")\n",
    "        self.largo = largo\n",
    "        if ancho is None or (not isinstance(ancho, (int,float)) or ancho <=0): # manejo de errores\n",
    "            raise ValueError(\"El ancho de la mesa debe ser un numero positivo\")\n",
    "        self.ancho = ancho\n",
    "        if altura is None or (not isinstance(altura, (int,float)) or altura <=0): # manejo de errores\n",
    "            raise ValueError(\"La altura de la mesa debe ser un numero positivo\")\n",
    "        self.altura = altura\n",
    "    \n",
    "    def calcular_volumen(self)->float: # en este caso no recibe parametros externos. Asi que se calcula con los self\n",
    "        '''\n",
    "        Calcula el volumen de la mesa según sus dimensiones\n",
    "        '''\n",
    "        return self.ancho * self.altura * self.largo\n",
    "    \n",
    "    def calcular_precio(self, precio_unitario: float)-> float:\n",
    "        '''\n",
    "        Calcula el precio en base al volumen de la mesa\n",
    "        '''\n",
    "        if precio_unitario is None or (not isinstance(precio_unitario, (int,float)) or precio_unitario <=0): # manejo de errores\n",
    "            raise ValueError(\"El precio de la mesa debe ser un numero positivo\")\n",
    "        \n",
    "        volumen = self.calcular_volumen()\n",
    "        precio_total = volumen * precio_unitario\n",
    "        return precio_total"
   ]
  },
  {
   "cell_type": "code",
   "execution_count": 14,
   "metadata": {},
   "outputs": [
    {
     "ename": "ValueError",
     "evalue": "El precio de la mesa debe ser un numero positivo",
     "output_type": "error",
     "traceback": [
      "\u001b[1;31m---------------------------------------------------------------------------\u001b[0m",
      "\u001b[1;31mValueError\u001b[0m                                Traceback (most recent call last)",
      "\u001b[1;32md:\\NTT\\Python Avanzado\\7\\1clases.ipynb Cell 3\u001b[0m line \u001b[0;36m2\n\u001b[0;32m      <a href='vscode-notebook-cell:/d%3A/NTT/Python%20Avanzado/7/1clases.ipynb#X11sZmlsZQ%3D%3D?line=0'>1</a>\u001b[0m mesa_erronea \u001b[39m=\u001b[39m Mesa(\u001b[39m4\u001b[39m, \u001b[39m2\u001b[39m, \u001b[39m1\u001b[39m)\n\u001b[1;32m----> <a href='vscode-notebook-cell:/d%3A/NTT/Python%20Avanzado/7/1clases.ipynb#X11sZmlsZQ%3D%3D?line=1'>2</a>\u001b[0m \u001b[39mprint\u001b[39m(\u001b[39mf\u001b[39m\u001b[39m\"\u001b[39m\u001b[39m$\u001b[39m\u001b[39m{\u001b[39;00mmesa_erronea\u001b[39m.\u001b[39mcalcular_precio(\u001b[39m'\u001b[39m\u001b[39m20000\u001b[39m\u001b[39m'\u001b[39m)\u001b[39m}\u001b[39;00m\u001b[39m\"\u001b[39m)\n",
      "\u001b[1;32md:\\NTT\\Python Avanzado\\7\\1clases.ipynb Cell 3\u001b[0m line \u001b[0;36m2\n\u001b[0;32m     <a href='vscode-notebook-cell:/d%3A/NTT/Python%20Avanzado/7/1clases.ipynb#X11sZmlsZQ%3D%3D?line=23'>24</a>\u001b[0m \u001b[39m'''\u001b[39;00m\n\u001b[0;32m     <a href='vscode-notebook-cell:/d%3A/NTT/Python%20Avanzado/7/1clases.ipynb#X11sZmlsZQ%3D%3D?line=24'>25</a>\u001b[0m \u001b[39mCalcula el precio en base al volumen de la mesa\u001b[39;00m\n\u001b[0;32m     <a href='vscode-notebook-cell:/d%3A/NTT/Python%20Avanzado/7/1clases.ipynb#X11sZmlsZQ%3D%3D?line=25'>26</a>\u001b[0m \u001b[39m'''\u001b[39;00m\n\u001b[0;32m     <a href='vscode-notebook-cell:/d%3A/NTT/Python%20Avanzado/7/1clases.ipynb#X11sZmlsZQ%3D%3D?line=26'>27</a>\u001b[0m \u001b[39mif\u001b[39;00m precio_unitario \u001b[39mis\u001b[39;00m \u001b[39mNone\u001b[39;00m \u001b[39mor\u001b[39;00m (\u001b[39mnot\u001b[39;00m \u001b[39misinstance\u001b[39m(precio_unitario, (\u001b[39mint\u001b[39m,\u001b[39mfloat\u001b[39m)) \u001b[39mor\u001b[39;00m precio_unitario \u001b[39m<\u001b[39m\u001b[39m=\u001b[39m\u001b[39m0\u001b[39m): \u001b[39m# manejo de errores\u001b[39;00m\n\u001b[1;32m---> <a href='vscode-notebook-cell:/d%3A/NTT/Python%20Avanzado/7/1clases.ipynb#X11sZmlsZQ%3D%3D?line=27'>28</a>\u001b[0m     \u001b[39mraise\u001b[39;00m \u001b[39mValueError\u001b[39;00m(\u001b[39m\"\u001b[39m\u001b[39mEl precio de la mesa debe ser un numero positivo\u001b[39m\u001b[39m\"\u001b[39m)\n\u001b[0;32m     <a href='vscode-notebook-cell:/d%3A/NTT/Python%20Avanzado/7/1clases.ipynb#X11sZmlsZQ%3D%3D?line=29'>30</a>\u001b[0m volumen \u001b[39m=\u001b[39m \u001b[39mself\u001b[39m\u001b[39m.\u001b[39mcalcular_volumen()\n\u001b[0;32m     <a href='vscode-notebook-cell:/d%3A/NTT/Python%20Avanzado/7/1clases.ipynb#X11sZmlsZQ%3D%3D?line=30'>31</a>\u001b[0m precio_total \u001b[39m=\u001b[39m volumen \u001b[39m*\u001b[39m precio_unitario\n",
      "\u001b[1;31mValueError\u001b[0m: El precio de la mesa debe ser un numero positivo"
     ]
    }
   ],
   "source": [
    "mesa_erronea = Mesa(4, 2, 1)\n",
    "print(f\"${mesa_erronea.calcular_precio('20000')}\")"
   ]
  }
 ],
 "metadata": {
  "kernelspec": {
   "display_name": "base",
   "language": "python",
   "name": "python3"
  },
  "language_info": {
   "codemirror_mode": {
    "name": "ipython",
    "version": 3
   },
   "file_extension": ".py",
   "mimetype": "text/x-python",
   "name": "python",
   "nbconvert_exporter": "python",
   "pygments_lexer": "ipython3",
   "version": "3.10.9"
  }
 },
 "nbformat": 4,
 "nbformat_minor": 2
}
