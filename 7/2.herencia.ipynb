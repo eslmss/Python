{
 "cells": [
  {
   "cell_type": "markdown",
   "metadata": {},
   "source": [
    "### Herencia"
   ]
  },
  {
   "cell_type": "code",
   "execution_count": 1,
   "metadata": {},
   "outputs": [],
   "source": [
    "class Mueble:\n",
    "        def __init__(self, material:str, color:str): # Método Constructor. Necesario para manipular los ingresos\n",
    "            self.material = material\n",
    "            self.color = color\n",
    "            \n",
    "        def pintar(self, nuevo_color:str):\n",
    "            self.color = nuevo_color "
   ]
  },
  {
   "cell_type": "code",
   "execution_count": 2,
   "metadata": {},
   "outputs": [],
   "source": [
    "class Mesa(Mueble): # Mesa hereda de Mueble\n",
    "    '''\n",
    "    Breve Descripción de la Clase\n",
    "    '''\n",
    "    def __init__(self, material:str, color:str, largo:float, ancho:float, altura:float): # Método Constructor. Necesario para manipular los ingresos\n",
    "        super().__init__(material, color)\n",
    "        \n",
    "        if largo is None or (not isinstance(largo, (int,float)) or largo <=0): # manejo de errores      #estas validaciones podrian hacerse afuera, en una funcion y mas porque son siempre iguales\n",
    "            raise ValueError(\"El largo de la mesa debe ser un numero positivo\")\n",
    "        self.largo = largo\n",
    "        if ancho is None or (not isinstance(ancho, (int,float)) or ancho <=0): # manejo de errores\n",
    "            raise ValueError(\"El ancho de la mesa debe ser un numero positivo\")\n",
    "        self.ancho = ancho\n",
    "        if altura is None or (not isinstance(altura, (int,float)) or altura <=0): # manejo de errores\n",
    "            raise ValueError(\"La altura de la mesa debe ser un numero positivo\")\n",
    "        self.altura = altura\n",
    "    \n",
    "    def calcular_volumen(self)->float: # en este caso no recibe parametros externos. Asi que se calcula con los self\n",
    "        '''\n",
    "        Calcula el volumen de la mesa según sus dimensiones\n",
    "        '''\n",
    "        return self.ancho * self.altura * self.largo\n",
    "    \n",
    "    def calcular_precio(self, precio_unitario: float)-> float:\n",
    "        '''\n",
    "        Calcula el precio en base al volumen de la mesa\n",
    "        '''\n",
    "        if precio_unitario is None or (not isinstance(precio_unitario, (int,float)) or precio_unitario <=0): # manejo de errores\n",
    "            raise ValueError(\"El precio de la mesa debe ser un numero positivo\")\n",
    "        \n",
    "        volumen = self.calcular_volumen()\n",
    "        precio_total = volumen * precio_unitario\n",
    "        return precio_total"
   ]
  },
  {
   "cell_type": "code",
   "execution_count": 7,
   "metadata": {},
   "outputs": [
    {
     "data": {
      "text/plain": [
       "'azul'"
      ]
     },
     "execution_count": 7,
     "metadata": {},
     "output_type": "execute_result"
    }
   ],
   "source": [
    "mesa_100 = Mesa(material=\"Madera\", color=\"bordo\", ancho=2, largo=2,altura=1)\n",
    "mesa_100.pintar(\"azul\")\n",
    "mesa_100.color"
   ]
  }
 ],
 "metadata": {
  "kernelspec": {
   "display_name": "base",
   "language": "python",
   "name": "python3"
  },
  "language_info": {
   "codemirror_mode": {
    "name": "ipython",
    "version": 3
   },
   "file_extension": ".py",
   "mimetype": "text/x-python",
   "name": "python",
   "nbconvert_exporter": "python",
   "pygments_lexer": "ipython3",
   "version": "3.10.9"
  }
 },
 "nbformat": 4,
 "nbformat_minor": 2
}
